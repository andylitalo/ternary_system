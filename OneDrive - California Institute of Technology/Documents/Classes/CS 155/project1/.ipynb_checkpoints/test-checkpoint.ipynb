{
 "cells": [
  {
   "cell_type": "code",
   "execution_count": 44,
   "metadata": {},
   "outputs": [],
   "source": [
    "import numpy as np\n",
    "import pandas as pd"
   ]
  },
  {
   "cell_type": "code",
   "execution_count": 45,
   "metadata": {
    "scrolled": true
   },
   "outputs": [
    {
     "data": {
      "text/html": [
       "<div>\n",
       "<style scoped>\n",
       "    .dataframe tbody tr th:only-of-type {\n",
       "        vertical-align: middle;\n",
       "    }\n",
       "\n",
       "    .dataframe tbody tr th {\n",
       "        vertical-align: top;\n",
       "    }\n",
       "\n",
       "    .dataframe thead th {\n",
       "        text-align: right;\n",
       "    }\n",
       "</style>\n",
       "<table border=\"1\" class=\"dataframe\">\n",
       "  <thead>\n",
       "    <tr style=\"text-align: right;\">\n",
       "      <th></th>\n",
       "      <th>id</th>\n",
       "      <th>HRMONTH</th>\n",
       "      <th>HRYEAR4</th>\n",
       "      <th>HURESPLI</th>\n",
       "      <th>HUFINAL</th>\n",
       "      <th>HUSPNISH</th>\n",
       "      <th>HETENURE</th>\n",
       "      <th>HEHOUSUT</th>\n",
       "      <th>HETELHHD</th>\n",
       "      <th>HETELAVL</th>\n",
       "      <th>...</th>\n",
       "      <th>PEDISDRS</th>\n",
       "      <th>PEDISOUT</th>\n",
       "      <th>PRDISFLG</th>\n",
       "      <th>PXDISEAR</th>\n",
       "      <th>PXDISEYE</th>\n",
       "      <th>PXDISREM</th>\n",
       "      <th>PXDISPHY</th>\n",
       "      <th>PXDISDRS</th>\n",
       "      <th>PXDISOUT</th>\n",
       "      <th>target</th>\n",
       "    </tr>\n",
       "  </thead>\n",
       "  <tbody>\n",
       "    <tr>\n",
       "      <th>0</th>\n",
       "      <td>16000</td>\n",
       "      <td>11</td>\n",
       "      <td>2008</td>\n",
       "      <td>1</td>\n",
       "      <td>201</td>\n",
       "      <td>0</td>\n",
       "      <td>1</td>\n",
       "      <td>1</td>\n",
       "      <td>1</td>\n",
       "      <td>-1</td>\n",
       "      <td>...</td>\n",
       "      <td>2</td>\n",
       "      <td>2</td>\n",
       "      <td>2</td>\n",
       "      <td>0</td>\n",
       "      <td>0</td>\n",
       "      <td>0</td>\n",
       "      <td>0</td>\n",
       "      <td>0</td>\n",
       "      <td>0</td>\n",
       "      <td>0</td>\n",
       "    </tr>\n",
       "    <tr>\n",
       "      <th>1</th>\n",
       "      <td>16001</td>\n",
       "      <td>11</td>\n",
       "      <td>2008</td>\n",
       "      <td>1</td>\n",
       "      <td>201</td>\n",
       "      <td>0</td>\n",
       "      <td>2</td>\n",
       "      <td>1</td>\n",
       "      <td>1</td>\n",
       "      <td>-1</td>\n",
       "      <td>...</td>\n",
       "      <td>2</td>\n",
       "      <td>2</td>\n",
       "      <td>2</td>\n",
       "      <td>0</td>\n",
       "      <td>0</td>\n",
       "      <td>0</td>\n",
       "      <td>0</td>\n",
       "      <td>0</td>\n",
       "      <td>0</td>\n",
       "      <td>0</td>\n",
       "    </tr>\n",
       "    <tr>\n",
       "      <th>2</th>\n",
       "      <td>16002</td>\n",
       "      <td>11</td>\n",
       "      <td>2008</td>\n",
       "      <td>1</td>\n",
       "      <td>1</td>\n",
       "      <td>0</td>\n",
       "      <td>1</td>\n",
       "      <td>1</td>\n",
       "      <td>1</td>\n",
       "      <td>-1</td>\n",
       "      <td>...</td>\n",
       "      <td>2</td>\n",
       "      <td>2</td>\n",
       "      <td>2</td>\n",
       "      <td>0</td>\n",
       "      <td>0</td>\n",
       "      <td>0</td>\n",
       "      <td>0</td>\n",
       "      <td>0</td>\n",
       "      <td>0</td>\n",
       "      <td>0</td>\n",
       "    </tr>\n",
       "    <tr>\n",
       "      <th>3</th>\n",
       "      <td>16003</td>\n",
       "      <td>11</td>\n",
       "      <td>2008</td>\n",
       "      <td>2</td>\n",
       "      <td>1</td>\n",
       "      <td>0</td>\n",
       "      <td>1</td>\n",
       "      <td>1</td>\n",
       "      <td>1</td>\n",
       "      <td>-1</td>\n",
       "      <td>...</td>\n",
       "      <td>2</td>\n",
       "      <td>2</td>\n",
       "      <td>2</td>\n",
       "      <td>0</td>\n",
       "      <td>0</td>\n",
       "      <td>0</td>\n",
       "      <td>0</td>\n",
       "      <td>0</td>\n",
       "      <td>0</td>\n",
       "      <td>0</td>\n",
       "    </tr>\n",
       "    <tr>\n",
       "      <th>4</th>\n",
       "      <td>16004</td>\n",
       "      <td>11</td>\n",
       "      <td>2008</td>\n",
       "      <td>2</td>\n",
       "      <td>201</td>\n",
       "      <td>0</td>\n",
       "      <td>1</td>\n",
       "      <td>1</td>\n",
       "      <td>1</td>\n",
       "      <td>-1</td>\n",
       "      <td>...</td>\n",
       "      <td>2</td>\n",
       "      <td>2</td>\n",
       "      <td>2</td>\n",
       "      <td>0</td>\n",
       "      <td>0</td>\n",
       "      <td>0</td>\n",
       "      <td>0</td>\n",
       "      <td>0</td>\n",
       "      <td>0</td>\n",
       "      <td>0</td>\n",
       "    </tr>\n",
       "  </tbody>\n",
       "</table>\n",
       "<p>5 rows × 383 columns</p>\n",
       "</div>"
      ],
      "text/plain": [
       "      id  HRMONTH  HRYEAR4  HURESPLI  HUFINAL  HUSPNISH  HETENURE  HEHOUSUT  \\\n",
       "0  16000       11     2008         1      201         0         1         1   \n",
       "1  16001       11     2008         1      201         0         2         1   \n",
       "2  16002       11     2008         1        1         0         1         1   \n",
       "3  16003       11     2008         2        1         0         1         1   \n",
       "4  16004       11     2008         2      201         0         1         1   \n",
       "\n",
       "   HETELHHD  HETELAVL   ...    PEDISDRS  PEDISOUT  PRDISFLG  PXDISEAR  \\\n",
       "0         1        -1   ...           2         2         2         0   \n",
       "1         1        -1   ...           2         2         2         0   \n",
       "2         1        -1   ...           2         2         2         0   \n",
       "3         1        -1   ...           2         2         2         0   \n",
       "4         1        -1   ...           2         2         2         0   \n",
       "\n",
       "   PXDISEYE  PXDISREM  PXDISPHY  PXDISDRS  PXDISOUT  target  \n",
       "0         0         0         0         0         0       0  \n",
       "1         0         0         0         0         0       0  \n",
       "2         0         0         0         0         0       0  \n",
       "3         0         0         0         0         0       0  \n",
       "4         0         0         0         0         0       0  \n",
       "\n",
       "[5 rows x 383 columns]"
      ]
     },
     "execution_count": 45,
     "metadata": {},
     "output_type": "execute_result"
    }
   ],
   "source": [
    "# load data with pandas because it's fastest (https://softwarerecs.stackexchange.com/questions/7463/fastest-python-library-to-read-a-csv-file)\n",
    "df_known = pd.read_csv('caltech-cs-155-2019-part-1/train_2008.csv')\n",
    "df_test = pd.read_csv('caltech-cs-155-2019-part-1/test_2008.csv')\n",
    "\n",
    "# look at first 5 lines to make sure everything looks all right\n",
    "df_known.head()"
   ]
  },
  {
   "cell_type": "code",
   "execution_count": 49,
   "metadata": {},
   "outputs": [],
   "source": [
    "# extract only the values to get our data matrix\n",
    "data_known = df_known.values\n",
    "data_test = df_test.values\n",
    "\n",
    "# inputs\n",
    "X_known = data_known[:,:-1]\n",
    "X_test = data_test\n",
    "\n",
    "# last column is target signal\n",
    "y_known = data_known[:,-1]"
   ]
  },
  {
   "cell_type": "code",
   "execution_count": 50,
   "metadata": {},
   "outputs": [],
   "source": [
    "# # data validation\n",
    "# assert len(X_known) == len(y_train), 'Input and target signals have different numbers of data points.'\n",
    "# assert (np.unique(y_train) == np.array([0,1])).all(), 'Target signal includes values besides 0 and 1.'\n",
    "# assert len(X_test) == len(y_test), 'Input and target signals have different numbers of data points.'\n",
    "# assert np.sum(np.isnan(X_train)) == 0, 'null data points in training data'\n",
    "# assert np.sum(np.isnan(X_test)) == 0, 'null data points in test data'"
   ]
  },
  {
   "cell_type": "markdown",
   "metadata": {},
   "source": [
    "Segregate training set and validation set."
   ]
  },
  {
   "cell_type": "code",
   "execution_count": 51,
   "metadata": {},
   "outputs": [],
   "source": [
    "# number of training samples (< 64667)\n",
    "N_train = 40000\n",
    "\n",
    "# segregate into training and test set TODO shuffle\n",
    "X_train = X_known[:N_train,:]\n",
    "y_train = y_known[:N_train]\n",
    "X_validate = X_known[N_train:,:]\n",
    "y_validate = y_known[N_train:]"
   ]
  },
  {
   "cell_type": "code",
   "execution_count": 66,
   "metadata": {
    "scrolled": true
   },
   "outputs": [
    {
     "name": "stderr",
     "output_type": "stream",
     "text": [
      "C:\\Anaconda3\\lib\\site-packages\\sklearn\\preprocessing\\label.py:151: DeprecationWarning: The truth value of an empty array is ambiguous. Returning False, but in future this will result in an error. Use `array.size > 0` to check that an array is not empty.\n",
      "  if diff:\n",
      "C:\\Anaconda3\\lib\\site-packages\\sklearn\\preprocessing\\label.py:151: DeprecationWarning: The truth value of an empty array is ambiguous. Returning False, but in future this will result in an error. Use `array.size > 0` to check that an array is not empty.\n",
      "  if diff:\n"
     ]
    },
    {
     "name": "stdout",
     "output_type": "stream",
     "text": [
      "Accuracy: 0.74 (+/- 0.00) [Logistic Regression]\n"
     ]
    },
    {
     "name": "stderr",
     "output_type": "stream",
     "text": [
      "C:\\Anaconda3\\lib\\site-packages\\sklearn\\preprocessing\\label.py:151: DeprecationWarning: The truth value of an empty array is ambiguous. Returning False, but in future this will result in an error. Use `array.size > 0` to check that an array is not empty.\n",
      "  if diff:\n",
      "C:\\Anaconda3\\lib\\site-packages\\sklearn\\preprocessing\\label.py:151: DeprecationWarning: The truth value of an empty array is ambiguous. Returning False, but in future this will result in an error. Use `array.size > 0` to check that an array is not empty.\n",
      "  if diff:\n"
     ]
    },
    {
     "name": "stdout",
     "output_type": "stream",
     "text": [
      "Accuracy: 0.68 (+/- 0.09) [Random Forest]\n"
     ]
    },
    {
     "name": "stderr",
     "output_type": "stream",
     "text": [
      "C:\\Anaconda3\\lib\\site-packages\\sklearn\\preprocessing\\label.py:151: DeprecationWarning: The truth value of an empty array is ambiguous. Returning False, but in future this will result in an error. Use `array.size > 0` to check that an array is not empty.\n",
      "  if diff:\n",
      "C:\\Anaconda3\\lib\\site-packages\\sklearn\\preprocessing\\label.py:151: DeprecationWarning: The truth value of an empty array is ambiguous. Returning False, but in future this will result in an error. Use `array.size > 0` to check that an array is not empty.\n",
      "  if diff:\n"
     ]
    },
    {
     "name": "stdout",
     "output_type": "stream",
     "text": [
      "Accuracy: 0.73 (+/- 0.01) [naive Bayes]\n"
     ]
    },
    {
     "name": "stderr",
     "output_type": "stream",
     "text": [
      "C:\\Anaconda3\\lib\\site-packages\\sklearn\\preprocessing\\label.py:151: DeprecationWarning: The truth value of an empty array is ambiguous. Returning False, but in future this will result in an error. Use `array.size > 0` to check that an array is not empty.\n",
      "  if diff:\n",
      "C:\\Anaconda3\\lib\\site-packages\\sklearn\\preprocessing\\label.py:151: DeprecationWarning: The truth value of an empty array is ambiguous. Returning False, but in future this will result in an error. Use `array.size > 0` to check that an array is not empty.\n",
      "  if diff:\n"
     ]
    },
    {
     "name": "stdout",
     "output_type": "stream",
     "text": [
      "Accuracy: 0.74 (+/- 0.00) [Logistic Regression]\n"
     ]
    },
    {
     "name": "stderr",
     "output_type": "stream",
     "text": [
      "C:\\Anaconda3\\lib\\site-packages\\sklearn\\preprocessing\\label.py:151: DeprecationWarning: The truth value of an empty array is ambiguous. Returning False, but in future this will result in an error. Use `array.size > 0` to check that an array is not empty.\n",
      "  if diff:\n",
      "C:\\Anaconda3\\lib\\site-packages\\sklearn\\preprocessing\\label.py:151: DeprecationWarning: The truth value of an empty array is ambiguous. Returning False, but in future this will result in an error. Use `array.size > 0` to check that an array is not empty.\n",
      "  if diff:\n"
     ]
    },
    {
     "name": "stdout",
     "output_type": "stream",
     "text": [
      "Accuracy: 0.74 (+/- 0.00) [Random Forest]\n"
     ]
    },
    {
     "name": "stderr",
     "output_type": "stream",
     "text": [
      "C:\\Anaconda3\\lib\\site-packages\\sklearn\\preprocessing\\label.py:151: DeprecationWarning: The truth value of an empty array is ambiguous. Returning False, but in future this will result in an error. Use `array.size > 0` to check that an array is not empty.\n",
      "  if diff:\n",
      "C:\\Anaconda3\\lib\\site-packages\\sklearn\\preprocessing\\label.py:151: DeprecationWarning: The truth value of an empty array is ambiguous. Returning False, but in future this will result in an error. Use `array.size > 0` to check that an array is not empty.\n",
      "  if diff:\n"
     ]
    },
    {
     "name": "stdout",
     "output_type": "stream",
     "text": [
      "Accuracy: 0.74 (+/- 0.00) [naive Bayes]\n"
     ]
    },
    {
     "name": "stderr",
     "output_type": "stream",
     "text": [
      "C:\\Anaconda3\\lib\\site-packages\\sklearn\\preprocessing\\label.py:151: DeprecationWarning: The truth value of an empty array is ambiguous. Returning False, but in future this will result in an error. Use `array.size > 0` to check that an array is not empty.\n",
      "  if diff:\n",
      "C:\\Anaconda3\\lib\\site-packages\\sklearn\\preprocessing\\label.py:151: DeprecationWarning: The truth value of an empty array is ambiguous. Returning False, but in future this will result in an error. Use `array.size > 0` to check that an array is not empty.\n",
      "  if diff:\n"
     ]
    },
    {
     "name": "stdout",
     "output_type": "stream",
     "text": [
      "Accuracy: 0.74 (+/- 0.00) [Logistic Regression]\n"
     ]
    },
    {
     "name": "stderr",
     "output_type": "stream",
     "text": [
      "C:\\Anaconda3\\lib\\site-packages\\sklearn\\preprocessing\\label.py:151: DeprecationWarning: The truth value of an empty array is ambiguous. Returning False, but in future this will result in an error. Use `array.size > 0` to check that an array is not empty.\n",
      "  if diff:\n",
      "C:\\Anaconda3\\lib\\site-packages\\sklearn\\preprocessing\\label.py:151: DeprecationWarning: The truth value of an empty array is ambiguous. Returning False, but in future this will result in an error. Use `array.size > 0` to check that an array is not empty.\n",
      "  if diff:\n"
     ]
    },
    {
     "name": "stdout",
     "output_type": "stream",
     "text": [
      "Accuracy: 0.68 (+/- 0.09) [Random Forest]\n"
     ]
    },
    {
     "name": "stderr",
     "output_type": "stream",
     "text": [
      "C:\\Anaconda3\\lib\\site-packages\\sklearn\\preprocessing\\label.py:151: DeprecationWarning: The truth value of an empty array is ambiguous. Returning False, but in future this will result in an error. Use `array.size > 0` to check that an array is not empty.\n",
      "  if diff:\n"
     ]
    },
    {
     "name": "stdout",
     "output_type": "stream",
     "text": [
      "Accuracy: 0.74 (+/- 0.00) [naive Bayes]\n"
     ]
    },
    {
     "name": "stderr",
     "output_type": "stream",
     "text": [
      "C:\\Anaconda3\\lib\\site-packages\\sklearn\\preprocessing\\label.py:151: DeprecationWarning: The truth value of an empty array is ambiguous. Returning False, but in future this will result in an error. Use `array.size > 0` to check that an array is not empty.\n",
      "  if diff:\n"
     ]
    }
   ],
   "source": [
    "from sklearn import datasets\n",
    "from sklearn.model_selection import cross_val_score\n",
    "from sklearn.linear_model import LogisticRegression\n",
    "from sklearn.naive_bayes import GaussianNB\n",
    "from sklearn.ensemble import RandomForestClassifier\n",
    "from sklearn.ensemble import VotingClassifier\n",
    "\n",
    "clf1 = LogisticRegression(solver='lbfgs', multi_class='multinomial',\n",
    "                           random_state=1)\n",
    "clf2 = RandomForestClassifier(n_estimators=50, random_state=1)\n",
    "clf3 = GaussianNB()\n",
    "\n",
    "# initialize list of estimators\n",
    "estimators = []\n",
    "\n",
    "# number of estimators to add to ensemble\n",
    "n_iter = 3\n",
    "# number of cross validation folds\n",
    "n_folds = 3\n",
    "\n",
    "# create ensemble\n",
    "for i in range(n_iter):\n",
    "    new_clf = None\n",
    "    new_label = None\n",
    "    max_auc = 0\n",
    "    i = 0\n",
    "    for clf, label in zip([clf1, clf2, clf3], ['Logistic Regression', 'Random Forest', 'naive Bayes']):\n",
    "        estimators_test = estimators + [(label, clf)]\n",
    "        eclf = VotingClassifier(estimators=estimators_test, voting='hard')\n",
    "        \n",
    "        scores = cross_val_score(eclf, X_known, y_known, cv=n_folds, scoring='accuracy')\n",
    "        print(\"Accuracy: %0.2f (+/- %0.2f) [%s]\" % (scores.mean(), scores.std(), label))\n",
    "        if scores.mean() > max_auc:\n",
    "            new_clf = clf\n",
    "            new_label = label + str(i)\n",
    "            max_auc = scores.mean()\n",
    "\n",
    "    estimators += [(new_label, new_clf)]\n",
    "    i += 1"
   ]
  },
  {
   "cell_type": "code",
   "execution_count": 58,
   "metadata": {},
   "outputs": [
    {
     "name": "stdout",
     "output_type": "stream",
     "text": [
      "0.531478 +/- 0.005728 for model LogisticRegression(C=1.0, class_weight=None, dual=False, fit_intercept=True,\n",
      "          intercept_scaling=1, max_iter=100, multi_class='multinomial',\n",
      "          n_jobs=1, penalty='l2', random_state=1, solver='lbfgs',\n",
      "          tol=0.0001, verbose=0, warm_start=False)\n",
      "0.758813 +/- 0.014718 for model RandomForestClassifier(bootstrap=True, class_weight=None, criterion='gini',\n",
      "            max_depth=None, max_features='auto', max_leaf_nodes=None,\n",
      "            min_impurity_decrease=0.0, min_impurity_split=None,\n",
      "            min_samples_leaf=1, min_samples_split=2,\n",
      "            min_weight_fraction_leaf=0.0, n_estimators=50, n_jobs=1,\n",
      "            oob_score=False, random_state=1, verbose=0, warm_start=False)\n",
      "0.587791 +/- 0.006381 for model GaussianNB(priors=None)\n",
      "max auc = 0.587791 +/- 0.006381 for model RandomForestClassifier(bootstrap=True, class_weight=None, criterion='gini',\n",
      "            max_depth=None, max_features='auto', max_leaf_nodes=None,\n",
      "            min_impurity_decrease=0.0, min_impurity_split=None,\n",
      "            min_samples_leaf=1, min_samples_split=2,\n",
      "            min_weight_fraction_leaf=0.0, n_estimators=50, n_jobs=1,\n",
      "            oob_score=False, random_state=1, verbose=0, warm_start=False)\n"
     ]
    }
   ],
   "source": [
    "# initialize ensemble\n",
    "ensemble = []\n",
    "\n",
    "# classifiers to test\n",
    "classifiers = [clf1, clf2, clf3]\n",
    "\n",
    "# begin first loop to select first model\n",
    "max_auc = 0\n",
    "new_clf = None\n",
    "for clf, label in zip(classifiers, ['Logistic Regression', 'Random Forest', 'naive Bayes']):\n",
    "    scores = cross_val_score(clf, X_known, y_known, cv=5, scoring='roc_auc')\n",
    "    print('%f +/- %f for model %s' % (scores.mean(),scores.std(),str(clf)))\n",
    "    if scores.mean() > max_auc:\n",
    "        max_auc = scores.mean()\n",
    "        new_clf = clf\n",
    "print('max auc = %f for model %s' % (max_auc,str(new_clf)))\n",
    "ensemble += [new_clf]"
   ]
  },
  {
   "cell_type": "markdown",
   "metadata": {},
   "source": [
    "Now let's try adding another model"
   ]
  },
  {
   "cell_type": "code",
   "execution_count": 67,
   "metadata": {
    "scrolled": true
   },
   "outputs": [
    {
     "name": "stdout",
     "output_type": "stream",
     "text": [
      "auc = 0.500000 for classifier 0, iteration 0\n",
      "auc = 0.608547 for classifier 1, iteration 0\n",
      "auc = 0.517967 for classifier 2, iteration 0\n",
      "auc = 0.517967 for classifier 0, iteration 1\n",
      "auc = 0.613499 for classifier 1, iteration 1\n",
      "auc = 0.517967 for classifier 2, iteration 1\n",
      "auc = 0.517967 for classifier 0, iteration 2\n",
      "auc = 0.610348 for classifier 1, iteration 2\n",
      "auc = 0.517967 for classifier 2, iteration 2\n"
     ]
    }
   ],
   "source": [
    "from sklearn import datasets\n",
    "from sklearn.model_selection import KFold\n",
    "from sklearn.linear_model import LogisticRegression\n",
    "from sklearn.naive_bayes import GaussianNB\n",
    "from sklearn.ensemble import RandomForestClassifier\n",
    "from sklearn.ensemble import VotingClassifier\n",
    "from sklearn.metrics import roc_auc_score\n",
    "\n",
    "clf1 = LogisticRegression(solver='lbfgs', multi_class='multinomial',\n",
    "                           random_state=1)\n",
    "clf2 = RandomForestClassifier(n_estimators=50, random_state=1)\n",
    "clf3 = GaussianNB()\n",
    "\n",
    "classifiers = [clf1, clf2, clf3]\n",
    "# number of estimators to add to ensemble\n",
    "n_iter = 3\n",
    "\n",
    "# predictions on validation set\n",
    "predictions = np.zeros([n_iter, len(y_validate)])\n",
    "\n",
    "# train sample models on cross validated sets from training set\n",
    "for i in range(len(classifiers)):\n",
    "    clf = classifiers[i]\n",
    "    clf.fit(X_train, y_train)\n",
    "    \n",
    "# loop through predictions on validation set and greedily add to create ensemble\n",
    "for i in range(n_iter):\n",
    "    for j in range(len(classifiers)):\n",
    "        clf = classifiers[j]\n",
    "        predictions[i] = clf.predict(X_validate)\n",
    "        y_pred = np.mean(predictions[:i+1], axis=0)\n",
    "        auc = roc_auc_score(y_validate, y_pred)\n",
    "        print('auc = %f for classifier %i, iteration %i' % (auc, j, i))\n",
    "        if auc > max_auc:\n",
    "            new_clf_index = j\n",
    "            max_auc = auc\n",
    "    \n",
    "    predictions[i] = classifiers[j].predict(X_validate)"
   ]
  },
  {
   "cell_type": "markdown",
   "metadata": {},
   "source": [
    "Now for something more comprehensive"
   ]
  },
  {
   "cell_type": "code",
   "execution_count": null,
   "metadata": {},
   "outputs": [],
   "source": [
    "# initialize classifiers list\n",
    "classifiers += []\n",
    "\n",
    "# Logistic regression models\n",
    "C_arr = np.linspace(0, 5, 100)\n",
    "\n",
    "for i in range(len(C_arr)):\n",
    "    C = C_arr[i]\n",
    "    clf = LogisticRegression(solver='lbfgs', multi_class='multinomial',\n",
    "                           random_state=1, C=C)\n",
    "    classifiers += [clf]\n",
    "\n",
    "# Gaussian Naive Bayes\n",
    "classifiers += [GaussianNB()]\n",
    "\n",
    "# random forest\n",
    "min_samples_split_arr = np.array([2,4,8,16,32])\n",
    "min_samples_leaf_arr = np.array([1,2,4,8,16,32,64,128])\n",
    "n_estimators_arr = np.array([10, 30, 100, 300])\n",
    "\n",
    "for i in range(len(min_samples_split_arr)):\n",
    "    for j in range(len(min_samples_leaf)):\n",
    "        for k in range(len(n_estimators_arr)):\n",
    "            min_samples_split = min_samples_split_arr[i]\n",
    "            min_samples_leaf = min_samples_leaf_arr[j]\n",
    "            n_estimators = n_estimators_arr[k]\n",
    "            clf = RandomForestClassifier(min_samples_split=min_samples_split, min_samples_leaf=min_samples_leaf,\n",
    "                                         n_estimators=n_estimators, random_state=1)\n",
    "            classifiers += [clf]\n",
    "            \n",
    "# loop through predictions on validation set and greedily add to create ensemble\n",
    "for i in range(n_iter):\n",
    "    for j in range(len(classifiers)):\n",
    "        clf = classifiers[j]\n",
    "        predictions[i] = clf.predict(X_validate)\n",
    "        y_pred = np.mean(predictions[:i+1], axis=0)\n",
    "        auc = roc_auc_score(y_validate, y_pred)\n",
    "        print('auc = %f for classifier %i, iteration %i' % (auc, j, i))\n",
    "        if auc > max_auc:\n",
    "            new_clf_index = j\n",
    "            max_auc = auc\n",
    "    \n",
    "    predictions[i] = classifiers[j].predict(X_validate)"
   ]
  }
 ],
 "metadata": {
  "kernelspec": {
   "display_name": "Python 3",
   "language": "python",
   "name": "python3"
  },
  "language_info": {
   "codemirror_mode": {
    "name": "ipython",
    "version": 3
   },
   "file_extension": ".py",
   "mimetype": "text/x-python",
   "name": "python",
   "nbconvert_exporter": "python",
   "pygments_lexer": "ipython3",
   "version": "3.6.5"
  }
 },
 "nbformat": 4,
 "nbformat_minor": 2
}
