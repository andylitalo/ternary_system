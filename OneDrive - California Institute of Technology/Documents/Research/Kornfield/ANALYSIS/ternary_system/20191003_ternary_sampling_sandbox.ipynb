{
 "cells": [
  {
   "cell_type": "markdown",
   "metadata": {},
   "source": [
    "# Analysis for Sampling Ternary System\n",
    "\n",
    "The experiment began shortly before 4pm on Wednesday, October 2nd, 2019. We continued with the same initial solution throughout the rest of the experimental time frame through October 11th, 2019 because of the time required to clean and reload the Parr reactor in the N2 glovebox (~1 day turnaround). Instead, we added cyclopentane to change the recipe by pumping it in with the ISCO pump.\n",
    "\n",
    "### Concerns\n",
    "    -Vapor leak changes composition of CO2, current method for accounting for it is heuristic and based on Huikuan's PC-SAFT model (which we were are trying to validate)\n",
    "    -Vapor leak also changes composition of C5, which I have not accounted for\n",
    "    -Not getting good matching for high pressure or low temperature, possibly because of drift in accuracy of composition\n",
    "    -Vapor phase sampling is at a much lower pressure and typically lower temperature (ambient for both) than the headspace in the Parr reactor, resulting in a much lower pressure of the vapor in the GC, so the density must be corrected with a PC-SAFT estimate of the total density (only weight fractions are used from GC, which may be inaccurate in the case of evaporation of a liquid headspace at high pressures)\n",
    "    -A non-negligible amount of liquid is extracted for sampling (1-2 mL), which can dramatically change the amount of polyol and cyclopentane (and perhaps even CO2) in the Parr reactor. Because we don't know exactly how much is sampled, however, we must rely on a heuristic estimate to predict the amount that has been lost due to sampling at each measurement. So far, this heuristic assumes that only cyclopentane and polyol have been sampled, but perhaps we should include CO2 as well.\n",
    "    \n",
    "#### Correcting for CO2 Leak\n",
    "\n",
    "If I don't correct for leak, the data are obviously off, with the expected density of CO2 being greater than the density in either of the sampled phases. If I use the mass of CO2 predicted under the conditions of each experiment by the PC-SAFT model, I underestimate the CO2 mass resulting in a total density around the measured density of CO2 in the vapor phase (although the density of CO2 in the vapor phase is modified based on the predicted density of the vapor phase assuming the same density as a CO2-C5 mixture in equilibrium with its liquid phase). Right now, I am estimating the leak based on the drop in expected mass predicted by the PC-SAFT model during each pressure step, which assumes a constant leak rate for each pressure step. The result is something in between, and thus, reasonable, but likely still inaccurate (I think it overestimates the density from my observations). Nevertheless, I cannot justify another approximation that would more accurately estimate the amount of CO2 lost through the leak."
   ]
  },
  {
   "cell_type": "code",
   "execution_count": 1,
   "metadata": {},
   "outputs": [],
   "source": [
    "import pandas as pd\n",
    "import numpy as np\n",
    "import pickle as pkl\n",
    "\n",
    "import tern\n",
    "import experiment\n",
    "from timedate import TimeDate\n",
    "import plot\n",
    "experiment.__name__='Experiment'\n",
    "from importlib import reload\n",
    "reload(tern)\n",
    "reload(experiment)\n",
    "\n",
    "# set user parameters\n",
    "save_folder = ''\n",
    "experiment_save_filename = 'experiment_objects.pkl'"
   ]
  },
  {
   "cell_type": "code",
   "execution_count": 6,
   "metadata": {},
   "outputs": [
    {
     "name": "stdout",
     "output_type": "stream",
     "text": [
      "0.2305297473448276\n",
      "0.156831255\n",
      "0.153337839\n",
      "0.0026929221724137932\n",
      "0.23361478083911022\n"
     ]
    }
   ],
   "source": [
    "print(np.sum(tern.rho_v_co2_c5(1070, 42, 0.97, 0.03)))\n",
    "print(np.sum(tern.rho_v_co2_c5(880, 42, 0.97, 0.03)))\n",
    "\n",
    "print(np.sum(tern.rho_v_co2_c5(870, 43, 0.92, 0.08)))\n",
    "print(np.sum(tern.rho_v_co2_c5(15, 43, 0.92, 0.08)))\n",
    "\n",
    "print(np.sum(tern.rho_v_co2_c5(15, 22, 0.63, 0.37)))"
   ]
  },
  {
   "cell_type": "code",
   "execution_count": 135,
   "metadata": {},
   "outputs": [],
   "source": [
    "##### initialize experiment\n",
    "v_leak = 5\n",
    "w_poly = 0.51\n",
    "rho_poly = 1.02\n",
    "rho_c5 = 0.751\n",
    "purity_c5_a = 0.99073 # cyclopentane from GC lab; measured by Marla Gilbert with GC\n",
    "m_c5_a = 54.55 # [g]\n",
    "purity_c5_b = 0.98 # cyclopentane ordered from Sigma; read from the bottle\n",
    "m_c5_b = 27.46 # [g]\n",
    "m_poly = 86.59\n",
    "m_poly -= w_poly*v_leak*rho_poly # lost some mass while loading\n",
    "m_c5 = purity_c5_a*m_c5_a + purity_c5_b*m_c5_b\n",
    "m_c5 -= (1-w_poly)*v_leak*rho_c5 # lost some mass while loading\n",
    "m_impurities = (1-purity_c5_a)*m_c5_a + (1-purity_c5_b)*m_c5_b\n",
    "V = 1200 # volume of the Parr reactor [mL]; read from manual\n",
    "p_isco = 1000 # [psi] what's the offset? what's the pressure in the co2 tank?\n",
    "T_isco = 21 # [C]\n",
    "V_isco = 371 # [mL]\n",
    "timedate_0 = TimeDate(date_str='10/02/2019', time_str='15:50:00')\n",
    "mixing_rate = 10 # [RPM]\n",
    "\n",
    "exp = experiment.Experiment(m_poly, m_c5, m_impurities, V, p_isco, T_isco, V_isco, timedate_0, mixing_rate)"
   ]
  },
  {
   "cell_type": "code",
   "execution_count": 136,
   "metadata": {},
   "outputs": [
    {
     "name": "stderr",
     "output_type": "stream",
     "text": [
      "C:\\Anaconda3\\lib\\site-packages\\pandas\\core\\indexing.py:190: SettingWithCopyWarning: \n",
      "A value is trying to be set on a copy of a slice from a DataFrame\n",
      "\n",
      "See the caveats in the documentation: http://pandas.pydata.org/pandas-docs/stable/indexing.html#indexing-view-versus-copy\n",
      "  self._setitem_with_indexer(indexer, value)\n"
     ]
    }
   ],
   "source": [
    "pa_f_co2 = [3.0E7, 6.62E7, 7.12E7, 2.09E8, 2.14E8, 2.10E8, 2.09E8, 2.08E8, -1, 2.44E8, 3.30E8,\n",
    "           -1, 3.42E8, 3.40E8, 3.19E8, 3.12E8, 3.01E8, 2.99E8, 3.90E8, 3.59E8, 3.64E8, 3.81E8, 3.53E8,\n",
    "           3.48E8, 3.91E8, 3.92E8] #, 3.62E8]\n",
    "pa_f_c5 = [1.23E9, 1.16E9, 1.15E9, 9.57E8, 9.42E8, 9.26E8, 9.33E8, 9.35E8, -1, 8.48E8, 7.23E8,\n",
    "          -1, 6.97E8, 7.07E8, 7.21E8, 7.24E8, 7.35E8, 7.34E8, 6.17E8, 5.92E8, 6.06E8, 5.29E8, 4.7E8,\n",
    "          4.79E8, 5.31E8, 5.28E8] #, 6.92E8]\n",
    "pa_b_co2 = [4.04E7, 5.27E7, 5.67E7, 6.08E7, 5.84E7, 5.79E7, 5.96E7, 5.84E7, -1, 6.13E7, 6.03E7,\n",
    "           -1, 5.94E7, 5.8E7, 6.01E7, 6.02E7, 6.24E7, 8.84E7, 7.03E7, 1.01E8, 1.11E8, 1.06E8, 1.22E8,\n",
    "           1.16E8, 8.54E7, 9.71E7] #, 7.73E7]\n",
    "pa_b_c5 = [1.08E7, 7.23E6, 6.29E6, 4.44E6, 4.05E6, 3.58E6, 3.46E6, 3.65E6, -1, 1.91E6, 4.98E5,\n",
    "          -1, 1.22E6, 8.33E5, 4.69E5, 6.39E5, 1.64E6, 3.39E6, 2.92E6, 1.03E7, 7.17E6, 1.1E7, 7.75E6,\n",
    "          1.05E7, 2.13E6, 2.93E6] #, 1.68E6]\n",
    "p_parr = [375, 350, 350, 740, 740, 750, 755, 755, 885, 885, 990, 995, 995, 1000, 990, 990, 990, \n",
    "          985, 1075, 1045, 1040, 1110, 1095, 1100, 980, 980] #, 915]\n",
    "T = [41, 39, 38, 34, 33, 36, 39, 41, 41, 40, 39, 40, 34, 37, 39, 39, 38, 37, 38, 37, 36, 36, 36, 37, 31, 31] #, 30]\n",
    "V_isco = [289.1, 282.88, 282.5, 139.9, 139.9, 139.9, 139.3, 274, 203, 196.3, 105.33, 105.15, \n",
    "          103.54, 103.38, 101.73, 101.53, 101.35, 101.18, 5.80, 240.13, 239.73, 107.72, 105.31, 103.32, \n",
    "         92.70, 92.62] #, 41.35]\n",
    "p_isco = [1000, 1000, 1000, 1000, 1000, 1000, 1000, 1200, 1200, 1200, 1400, 1400, 1400, 1400,\n",
    "         1400, 1400, 1400, 1400, 1400, 1150, 1150, 1400, 1400, 1400, 1400, 1400] #, 1100]\n",
    "sampled_liquid = np.ones([len(p_isco)])\n",
    "sampled_liquid[[16, 17]] = False\n",
    "# volume of vapor sampled as measured by flow meter at atmospheric conditions connected to outlet of gas-sampling valve [mL]\n",
    "V_vap_sampled_atm = [4, 2, 2, 3, 1, 1.5, 5.3, 3.5, 5, 6, 7, 6, 6, 5, 13, 15, 150, 350, 150, 400, 400, 400, 500, 300, 380, 380]\n",
    "timedate = [TimeDate(date_str='10/02/2019', time_str='15:50:44'),\n",
    "            TimeDate(date_str='10/03/2019', time_str='9:09:35'),\n",
    "           TimeDate(date_str='10/03/2019', time_str='9:19:54'),\n",
    "           TimeDate(date_str='10/03/2019', time_str='12:38:37'),\n",
    "           TimeDate(date_str='10/03/2019', time_str='12:51:33'),\n",
    "           TimeDate(date_str='10/03/2019', time_str='14:42:25'),\n",
    "           TimeDate(date_str='10/03/2019', time_str='15:49:22'),\n",
    "           TimeDate(date_str='10/03/2019', time_str='16:01:11'),\n",
    "           TimeDate(date_str='10/04/2019', time_str='8:49:00'),\n",
    "           TimeDate(date_str='10/04/2019', time_str='8:59:43'),\n",
    "             TimeDate(date_str='10/04/2019', time_str='10:41:03'),\n",
    "           TimeDate(date_str='10/04/2019', time_str='10:54:00'),\n",
    "           TimeDate(date_str='10/04/2019', time_str='12:21:18'),\n",
    "           TimeDate(date_str='10/04/2019', time_str='12:29:36'),\n",
    "           TimeDate(date_str='10/04/2019', time_str='14:29:50'),\n",
    "           TimeDate(date_str='10/04/2019', time_str='14:42:26'),\n",
    "           TimeDate(date_str='10/04/2019', time_str='14:55:47'),\n",
    "           TimeDate(date_str='10/04/2019', time_str='15:05:49'),\n",
    "           TimeDate(date_str='10/04/2019', time_str='16:31:34'),\n",
    "           TimeDate(date_str='10/07/2019', time_str='9:24:42'),\n",
    "           TimeDate(date_str='10/07/2019', time_str='9:34:46'),\n",
    "           TimeDate(date_str='10/07/2019', time_str='11:05:36'),\n",
    "           TimeDate(date_str='10/07/2019', time_str='14:17:50'),\n",
    "           TimeDate(date_str='10/07/2019', time_str='14:24:00'), #???\n",
    "           TimeDate(date_str='10/08/2019', time_str='8:34:34'),\n",
    "           TimeDate(date_str='10/08/2019', time_str='8:40:00')] #,\n",
    "          # TimeDate(date_str='10/08/2019', time_str='13:55:00')] # ???\n",
    "# pressure step data\n",
    "inds_p_step = [0, 3, 8, 10, 18, 21, 23] #, 24] # indices before which Parr was pressurized\n",
    "p0 = [390, 795, 910, 1000, 1050, 1110, 980] #, 940]\n",
    "T0 = [41, 36, 40, 37, 35, 36, 31] #, 32]\n",
    "# p_isco_i = [0, 1000, 1200, 1200, 1400, 1400]\n",
    "# V_isco_i = [0, 282.5, 274, 196.3, 101, 232.8]\n",
    "# p_isco_f = [1000, 1000, 1200, 1400, 1400, 1400]\n",
    "# V_isco_f = [289.1, 134.16, 203, 107.9, 5.8, 109.6]\n",
    "# p_isco_refill = [845, -1, 838, -1, -846, -1]\n",
    "p_isco_i = [1000, 1000, 1200, 1200, 1400, 1400, 1400] #, 1100]\n",
    "V_isco_i = [370, 282.5, 274, 196.3, 101, 232.8, 92.7] #, 71.23]\n",
    "p_isco_f = [1000, 1000, 1200, 1400, 1400, 1400, 1400] #, 1100]\n",
    "V_isco_f = [289.1, 134.16, 203, 107.9, 5.8, 109.6, 92.7] #, 41.26]\n",
    "p_isco_refill = [-1, -1, -1, -1, -846, -1, -1] #, -1]\n",
    "p_step_timedate = [TimeDate(date_str='10/02/2019', time_str='15:50:00'),\n",
    "                  TimeDate(date_str='10/03/2019', time_str='9:30:00'),\n",
    "                  TimeDate(date_str='10/03/2019', time_str='16:10:00'),\n",
    "                  TimeDate(date_str='10/04/2019', time_str='9:10:00'),\n",
    "                  TimeDate(date_str='10/04/2019', time_str='15:20:00'),\n",
    "                  TimeDate(date_str='10/07/2019', time_str='9:48:00'),\n",
    "                  TimeDate(date_str='10/08/2019', time_str='8:34:34')]#,\n",
    "#                   TimeDate(date_str='10/08/2019', time_str='11:30:00')]\n",
    "# c5 = np.zeros([len(p_step_timedate)])\n",
    "# c5[7] = True\n",
    "leak_rate_list = []\n",
    "\n",
    "p_step_coll = []\n",
    "for i in range(len(pa_f_co2)):\n",
    "    # load new pressure step\n",
    "    if i in inds_p_step:\n",
    "        ip = inds_p_step.index(i)\n",
    "        p_step_coll += [experiment.PressureStep(exp, p0[ip], T0[ip], p_isco_i[ip], V_isco_i[ip], p_isco_f[ip], V_isco_f[ip],\n",
    "                                p_step_timedate[ip], p_isco_refill=p_isco_refill[ip])]\n",
    "    # load new measurement\n",
    "    meas = experiment.Measurement(p_step_coll[ip], pa_f_co2[i], pa_f_c5[i], pa_b_co2[i], pa_b_c5[i], \n",
    "                                  p_parr[i], T[i], V_isco[i], V_vap_sampled_atm[i], timedate[i], p_isco=p_isco[i], \n",
    "                                 sampled_liquid=sampled_liquid[i])\n",
    "    \n",
    "# create dataframe and save as csv\n",
    "pc_saft_folder = '../../../Wang/PC-SAFT/Data/'\n",
    "df_filename = 'gc_ternary_50%_c5_data.csv'\n",
    "df = exp.to_df()\n",
    "df.to_csv(pc_saft_folder+df_filename)"
   ]
  },
  {
   "cell_type": "code",
   "execution_count": 137,
   "metadata": {},
   "outputs": [
    {
     "name": "stderr",
     "output_type": "stream",
     "text": [
      "C:\\Anaconda3\\lib\\site-packages\\pandas\\core\\indexing.py:190: SettingWithCopyWarning: \n",
      "A value is trying to be set on a copy of a slice from a DataFrame\n",
      "\n",
      "See the caveats in the documentation: http://pandas.pydata.org/pandas-docs/stable/indexing.html#indexing-view-versus-copy\n",
      "  self._setitem_with_indexer(indexer, value)\n"
     ]
    }
   ],
   "source": [
    "reload(experiment)\n",
    "# create new experiment for c5 addition--note that this measurement is still in original experiment\n",
    "V_leak2 = 1 # volume of leak [mL]\n",
    "rho_l_poly = exp.p_step_list[-1].measurement_list[-1].rho_l_poly\n",
    "rho_l_c5 = exp.p_step_list[-1].measurement_list[-1].rho_l_c5\n",
    "T_atm = 21 # [C]\n",
    "V_c5_injected = (71.23-41.26) # [mL]\n",
    "m_poly = exp.m_poly - rho_l_poly*V_leak2\n",
    "m_c5 = exp.m_c5 - rho_l_c5*V_leak2 + tern.rho_c5(T_atm)*V_c5_injected\n",
    "m_co2 = exp.m_co2\n",
    "m_impurities = exp.m_impurities\n",
    "p_isco = 1100 # [psi]\n",
    "T_isco = 21 # [C]\n",
    "V_isco = 41.26 # [mL]\n",
    "timedate_0 = TimeDate(date_str='10/08/2019', time_str='11:30:00')\n",
    "exp2 = experiment.Experiment(m_poly, m_c5, m_impurities, V, p_isco, T_isco, V_isco, timedate_0, mixing_rate, m_co2=m_co2)\n",
    "\n",
    "pa_f_co2 = [3.62E8, 3.57E8]\n",
    "pa_f_c5 = [6.92E8, 7.23E8]\n",
    "pa_b_co2 = [7.73E7, 8.10E7]\n",
    "pa_b_c5 = [1.68E6, 2.80E6]\n",
    "p_parr = [915, 910]\n",
    "T = [30, 30]\n",
    "V_isco = [41.35, 41.35]\n",
    "p_isco = [1100, 1100]\n",
    "V_vap_sampled_atm = [450, 250]\n",
    "timedate = [TimeDate(date_str='10/08/2019', time_str='13:55:00'),\n",
    "           TimeDate(date_str='10/08/2019', time_str='15:36:51')]\n",
    "# pressure step data\n",
    "inds_p_step = [0] # indices before which Parr was pressurized\n",
    "p0 = [940]\n",
    "T0 = [32]\n",
    "p_isco_i = [1100]\n",
    "V_isco_i = [71.23]\n",
    "p_isco_f = [1100]\n",
    "V_isco_f = [41.26]\n",
    "p_isco_refill = [-1]\n",
    "p_step_timedate = [TimeDate(date_str='10/08/2019', time_str='11:30:01')]\n",
    "c5 = [True]\n",
    "\n",
    "p_step_coll = []\n",
    "for i in range(len(pa_f_co2)):\n",
    "    # load new pressure step\n",
    "    if i in inds_p_step:\n",
    "        ip = inds_p_step.index(i)\n",
    "        p_step_coll += [experiment.PressureStep(exp2, p0[ip], T0[ip], p_isco_i[ip], V_isco_i[ip], p_isco_f[ip], V_isco_f[ip],\n",
    "                                p_step_timedate[ip], c5=c5[ip])]\n",
    "    # load new measurement\n",
    "    meas = experiment.Measurement(p_step_coll[ip], pa_f_co2[i], pa_f_c5[i], pa_b_co2[i], pa_b_c5[i], \n",
    "                                  p_parr[i], T[i], V_isco[i], V_vap_sampled_atm[i], timedate[i], p_isco=p_isco[i], \n",
    "                                 sampled_liquid=sampled_liquid[i])\n",
    "    \n",
    "# create dataframe and save as csv\n",
    "pc_saft_folder = '../../../Wang/PC-SAFT/Data/'\n",
    "df2_filename = 'gc_ternary_55%_c5_data.csv'\n",
    "df2 = exp2.to_df()\n",
    "df2.to_csv(pc_saft_folder+df2_filename)"
   ]
  },
  {
   "cell_type": "code",
   "execution_count": 138,
   "metadata": {
    "scrolled": true
   },
   "outputs": [
    {
     "name": "stderr",
     "output_type": "stream",
     "text": [
      "C:\\Anaconda3\\lib\\site-packages\\pandas\\core\\indexing.py:190: SettingWithCopyWarning: \n",
      "A value is trying to be set on a copy of a slice from a DataFrame\n",
      "\n",
      "See the caveats in the documentation: http://pandas.pydata.org/pandas-docs/stable/indexing.html#indexing-view-versus-copy\n",
      "  self._setitem_with_indexer(indexer, value)\n"
     ]
    }
   ],
   "source": [
    "reload(experiment)\n",
    "# create new experiment for c5 addition--note that this measurement is still in original experiment\n",
    "V_c5_injected = 41.34-11.35 # [mL]\n",
    "T_atm = 21 # [C]\n",
    "m_poly = exp2.m_poly\n",
    "m_c5 = exp2.m_c5 + tern.rho_c5(T_atm)*V_c5_injected\n",
    "m_co2 = exp2.m_co2\n",
    "m_impurities = exp2.m_impurities\n",
    "p_isco = 1100 # [psi]\n",
    "T_isco = 21 # [C]\n",
    "V_isco = 11.35 # [mL]\n",
    "timedate_0 = TimeDate(date_str='10/08/2019', time_str='15:53:00')\n",
    "exp3 = experiment.Experiment(m_poly, m_c5, m_impurities, V, p_isco, T_isco, V_isco, timedate_0, mixing_rate, m_co2=m_co2)\n",
    "\n",
    "pa_f_co2 = [3.13E8, 3.16E8, 4.01E8, 4.2E8, 4.14E8, 2.08E8, 4.27E8, 3.79E8, 2.37E8, 6.66E6]\n",
    "pa_f_c5 = [9.28E8, 9.28E8, 7.53E8, 7.03E8, 6.43E8, 1.10E9, 7.37E8, 3.79E8, 1.01E9, 1.37E9]\n",
    "pa_b_co2 = [7.36E7, 7.21E7, 7.63E7, 6.48E7, 7.38E7, 6.71E7, 1.22E8, 1.20E8, 3.61E8, 4.37E7]\n",
    "pa_b_c5 = [3.5E6, 3.54E6, 2.37E6, 1.02E6, 2.19E6, 5.45E6, 4.01E6, 9.19E6, 9.21E7, 8.21E7]\n",
    "p_parr = [840, 820, 865, 870, 850, 750, 1040, 1080, 880, 25]\n",
    "T = [32, 31, 21, 20, 19, 38, 39, 42, 43, 22]\n",
    "V_isco = [0, 0, 203.95, 84.55, 84.35, 81.28, 12.22, 11.5, 507.95, 507.95]\n",
    "p_isco = [0, 0, 1200, 1350, 1350, 1350, 1350, 1350, 273, 273]\n",
    "V_vap_sampled_atm = [300, 400, 300, 150, 300, 350, 250, 250, 300, 20]\n",
    "timedate = [TimeDate(date_str='10/09/2019', time_str='8:30:28'),\n",
    "           TimeDate(date_str='10/09/2019', time_str='8:42:48'),\n",
    "           TimeDate(date_str='10/09/2019', time_str='12:29:43'),\n",
    "           TimeDate(date_str='10/09/2019', time_str='14:50:56'),\n",
    "           TimeDate(date_str='10/09/2019', time_str='16:40:26'), \n",
    "           TimeDate(date_str='10/10/2019', time_str='9:09:04'),\n",
    "           TimeDate(date_str='10/10/2019', time_str='12:34:23'),\n",
    "           TimeDate(date_str='10/10/2019', time_str='15:53:01'),\n",
    "           TimeDate(date_str='10/11/2019', time_str='8:33:03'),\n",
    "           TimeDate(date_str='10/11/2019', time_str='12:50:14')]\n",
    "# pressure step data\n",
    "inds_p_step = [0, 2, 3, 6, 8, 9] # indices before which Parr was pressurized\n",
    "p0 = [890, 990, 905, 1080, 890, 25]\n",
    "T0 = [33, 27, 21, 38, 42, 22]\n",
    "p_isco_i = [0, 1200, 1200, 1350, 1350, 273]\n",
    "V_isco_i = [0, 408.9, 203.95, 247.0, 11.5, 507.95]\n",
    "p_isco_f = [0, 1200, 1350, 1350, 1350, 273]\n",
    "V_isco_f = [0, 206.5, 85, 13.56, 11.5, 507.95]\n",
    "p_isco_refill = [-1, -1, -1, -1, -1, -1]\n",
    "p_step_timedate = [TimeDate(date_str='10/08/2019', time_str='16:55:00'),\n",
    "                   TimeDate(date_str='10/09/2019', time_str='8:50:00'),\n",
    "                  TimeDate(date_str='10/09/2019', time_str='13:00:00'),\n",
    "                  TimeDate(date_str='10/10/2019', time_str='11:30:00'),\n",
    "                  TimeDate(date_str='10/10/2019', time_str='16:00:00'),\n",
    "                  TimeDate(date_str='10/11/2019', time_str='10:00:00')]\n",
    "\n",
    "p_step_coll = []\n",
    "for i in range(len(pa_f_co2)):\n",
    "    # load new pressure step\n",
    "    if i in inds_p_step:\n",
    "        ip = inds_p_step.index(i)\n",
    "        p_step_coll += [experiment.PressureStep(exp3, p0[ip], T0[ip], p_isco_i[ip], V_isco_i[ip], p_isco_f[ip], V_isco_f[ip],\n",
    "                                p_step_timedate[ip])]\n",
    "    # load new measurement\n",
    "    meas = experiment.Measurement(p_step_coll[ip], pa_f_co2[i], pa_f_c5[i], pa_b_co2[i], pa_b_c5[i], \n",
    "                                  p_parr[i], T[i], V_isco[i], V_vap_sampled_atm[i], timedate[i], p_isco=p_isco[i])\n",
    "    \n",
    "# create dataframe and save as csv\n",
    "pc_saft_folder = '../../../Wang/PC-SAFT/Data/'\n",
    "df3_filename = 'gc_ternary_60%_c5_data.csv'\n",
    "df3 = exp3.to_df()\n",
    "df3.to_csv(pc_saft_folder+df3_filename)"
   ]
  },
  {
   "cell_type": "code",
   "execution_count": 139,
   "metadata": {
    "scrolled": true
   },
   "outputs": [
    {
     "name": "stdout",
     "output_type": "stream",
     "text": [
      "0.0461081740687795 365 41\n",
      "0.04474143675510626 340 39\n",
      "0.04512560071850609 340 38\n",
      "0.12392397467070047 730 34\n",
      "0.12398985737988516 730 33\n",
      "0.12256856174225662 740 36\n",
      "0.12393937849338325 745 39\n",
      "0.11999981994830033 745 41\n",
      "0.1511534201988584 875 40\n",
      "0.1977187968432388 980 39\n",
      "0.21023378401894247 985 34\n",
      "0.20103642023709473 990 37\n",
      "0.197735906622746 980 39\n",
      "0.19757386766909749 980 39\n",
      "0.19675023933332914 980 38\n",
      "0.19497029753143028 975 37\n",
      "0.2366773954737195 1065 38\n",
      "0.21711483538813978 1035 37\n",
      "0.21704616291518133 1030 36\n",
      "0.25536898469904445 1100 36\n",
      "0.24726384660736317 1085 36\n",
      "0.24850284281070173 1090 37\n",
      "0.21687787104166653 970 31\n",
      "0.2168131089312167 970 31\n"
     ]
    },
    {
     "data": {
      "text/plain": [
       "[None,\n",
       " None,\n",
       " None,\n",
       " None,\n",
       " None,\n",
       " None,\n",
       " None,\n",
       " None,\n",
       " None,\n",
       " None,\n",
       " None,\n",
       " None,\n",
       " None,\n",
       " None,\n",
       " None,\n",
       " None,\n",
       " None,\n",
       " None,\n",
       " None,\n",
       " None,\n",
       " None,\n",
       " None,\n",
       " None,\n",
       " None]"
      ]
     },
     "execution_count": 139,
     "metadata": {},
     "output_type": "execute_result"
    }
   ],
   "source": [
    "[print(m.rho_v_co2, m.p, m.T) for p_step in exp.p_step_list for m in p_step.measurement_list if not m.is_error]"
   ]
  },
  {
   "cell_type": "code",
   "execution_count": 140,
   "metadata": {},
   "outputs": [
    {
     "name": "stdout",
     "output_type": "stream",
     "text": [
      "4.81052850454557 365 41\n",
      "2.7330202293770567 340 39\n",
      "2.3504775345379416 340 38\n",
      "4.761066406957164 730 34\n",
      "4.7115538588683314 730 33\n",
      "4.421453180906827 740 36\n",
      "4.273442957204212 745 39\n",
      "4.339988527548609 745 41\n",
      "3.944782751548762 875 40\n",
      "3.7533713355440974 980 39\n",
      "4.86665891894079 985 34\n",
      "4.345683950630042 990 37\n",
      "3.805402875440801 980 39\n",
      "3.988151941195339 980 39\n",
      "4.83794725057996 980 38\n",
      "4.683719627541037 975 37\n",
      "6.42682350573705 1065 38\n",
      "9.375753685805638 1035 37\n",
      "6.5695466070426685 1030 36\n",
      "11.139218538434292 1100 36\n",
      "7.440023580763131 1085 36\n",
      "9.826222892561796 1090 37\n",
      "4.425265693612989 970 31\n",
      "4.501117513033629 970 31\n"
     ]
    },
    {
     "data": {
      "text/plain": [
       "[None,\n",
       " None,\n",
       " None,\n",
       " None,\n",
       " None,\n",
       " None,\n",
       " None,\n",
       " None,\n",
       " None,\n",
       " None,\n",
       " None,\n",
       " None,\n",
       " None,\n",
       " None,\n",
       " None,\n",
       " None,\n",
       " None,\n",
       " None,\n",
       " None,\n",
       " None,\n",
       " None,\n",
       " None,\n",
       " None,\n",
       " None]"
      ]
     },
     "execution_count": 140,
     "metadata": {},
     "output_type": "execute_result"
    }
   ],
   "source": [
    "[print(m.rho_v_c5*(exp.V-m.V_liq), m.p, m.T) for p_step in exp.p_step_list for m in p_step.measurement_list if not m.is_error]"
   ]
  },
  {
   "cell_type": "code",
   "execution_count": 141,
   "metadata": {},
   "outputs": [
    {
     "name": "stderr",
     "output_type": "stream",
     "text": [
      "C:\\Anaconda3\\lib\\site-packages\\pandas\\core\\indexing.py:190: SettingWithCopyWarning: \n",
      "A value is trying to be set on a copy of a slice from a DataFrame\n",
      "\n",
      "See the caveats in the documentation: http://pandas.pydata.org/pandas-docs/stable/indexing.html#indexing-view-versus-copy\n",
      "  self._setitem_with_indexer(indexer, value)\n"
     ]
    }
   ],
   "source": [
    "df = exp.to_df()"
   ]
  },
  {
   "cell_type": "code",
   "execution_count": 142,
   "metadata": {
    "scrolled": true
   },
   "outputs": [
    {
     "data": {
      "text/html": [
       "<div>\n",
       "<style scoped>\n",
       "    .dataframe tbody tr th:only-of-type {\n",
       "        vertical-align: middle;\n",
       "    }\n",
       "\n",
       "    .dataframe tbody tr th {\n",
       "        vertical-align: top;\n",
       "    }\n",
       "\n",
       "    .dataframe thead th {\n",
       "        text-align: right;\n",
       "    }\n",
       "</style>\n",
       "<table border=\"1\" class=\"dataframe\">\n",
       "  <thead>\n",
       "    <tr style=\"text-align: right;\">\n",
       "      <th></th>\n",
       "      <th>date</th>\n",
       "      <th>time</th>\n",
       "      <th>elapsed time [min]</th>\n",
       "      <th>pressure [psi]</th>\n",
       "      <th>temperature [C]</th>\n",
       "      <th>mass co2 [g]</th>\n",
       "      <th>mass co2 (leak) [g]</th>\n",
       "      <th>mass co2 [g] (corr)</th>\n",
       "      <th>mass c5 [g]</th>\n",
       "      <th>mass polyol [g]</th>\n",
       "      <th>...</th>\n",
       "      <th>w polyol (tot) [w/w]</th>\n",
       "      <th>w co2 (tot) [w/w] (corr)</th>\n",
       "      <th>w c5 (tot) [w/w] (corr)</th>\n",
       "      <th>w polyol (tot) [w/w] (corr)</th>\n",
       "      <th>liquid volume [mL]</th>\n",
       "      <th>mass c5 (pred) [g]</th>\n",
       "      <th>mass c5 (missing) [g]</th>\n",
       "      <th>mass co2 (pred) [g]</th>\n",
       "      <th>mass co2 (missing) [g]</th>\n",
       "      <th>is error</th>\n",
       "    </tr>\n",
       "  </thead>\n",
       "  <tbody>\n",
       "    <tr>\n",
       "      <th>0</th>\n",
       "      <td>10/9/2019</td>\n",
       "      <td>8:30:28</td>\n",
       "      <td>997</td>\n",
       "      <td>830</td>\n",
       "      <td>32</td>\n",
       "      <td>288.227</td>\n",
       "      <td>NaN</td>\n",
       "      <td>NaN</td>\n",
       "      <td>134.18</td>\n",
       "      <td>60.9734</td>\n",
       "      <td>...</td>\n",
       "      <td>0.125865</td>\n",
       "      <td>NaN</td>\n",
       "      <td>NaN</td>\n",
       "      <td>NaN</td>\n",
       "      <td>212.013</td>\n",
       "      <td>63.9693</td>\n",
       "      <td>70.2105</td>\n",
       "      <td>217.974</td>\n",
       "      <td>70.2533</td>\n",
       "      <td>False</td>\n",
       "    </tr>\n",
       "    <tr>\n",
       "      <th>1</th>\n",
       "      <td>10/9/2019</td>\n",
       "      <td>8:42:48</td>\n",
       "      <td>1009</td>\n",
       "      <td>810</td>\n",
       "      <td>31</td>\n",
       "      <td>287.334</td>\n",
       "      <td>NaN</td>\n",
       "      <td>NaN</td>\n",
       "      <td>133.61</td>\n",
       "      <td>60.4022</td>\n",
       "      <td>...</td>\n",
       "      <td>0.125212</td>\n",
       "      <td>NaN</td>\n",
       "      <td>NaN</td>\n",
       "      <td>NaN</td>\n",
       "      <td>211.493</td>\n",
       "      <td>63.9594</td>\n",
       "      <td>69.6502</td>\n",
       "      <td>219.37</td>\n",
       "      <td>67.9643</td>\n",
       "      <td>False</td>\n",
       "    </tr>\n",
       "    <tr>\n",
       "      <th>2</th>\n",
       "      <td>10/9/2019</td>\n",
       "      <td>12:29:43</td>\n",
       "      <td>1236</td>\n",
       "      <td>855</td>\n",
       "      <td>21</td>\n",
       "      <td>453.017</td>\n",
       "      <td>NaN</td>\n",
       "      <td>NaN</td>\n",
       "      <td>133.149</td>\n",
       "      <td>59.8369</td>\n",
       "      <td>...</td>\n",
       "      <td>0.0924754</td>\n",
       "      <td>NaN</td>\n",
       "      <td>NaN</td>\n",
       "      <td>NaN</td>\n",
       "      <td>211.714</td>\n",
       "      <td>52.5207</td>\n",
       "      <td>80.628</td>\n",
       "      <td>266.138</td>\n",
       "      <td>186.879</td>\n",
       "      <td>False</td>\n",
       "    </tr>\n",
       "    <tr>\n",
       "      <th>3</th>\n",
       "      <td>10/9/2019</td>\n",
       "      <td>14:50:56</td>\n",
       "      <td>1377</td>\n",
       "      <td>860</td>\n",
       "      <td>20</td>\n",
       "      <td>548.656</td>\n",
       "      <td>NaN</td>\n",
       "      <td>NaN</td>\n",
       "      <td>132.72</td>\n",
       "      <td>59.2666</td>\n",
       "      <td>...</td>\n",
       "      <td>0.0799067</td>\n",
       "      <td>NaN</td>\n",
       "      <td>NaN</td>\n",
       "      <td>NaN</td>\n",
       "      <td>207.838</td>\n",
       "      <td>48.0806</td>\n",
       "      <td>84.6398</td>\n",
       "      <td>271.157</td>\n",
       "      <td>277.499</td>\n",
       "      <td>False</td>\n",
       "    </tr>\n",
       "    <tr>\n",
       "      <th>4</th>\n",
       "      <td>10/9/2019</td>\n",
       "      <td>16:40:26</td>\n",
       "      <td>1487</td>\n",
       "      <td>840</td>\n",
       "      <td>19</td>\n",
       "      <td>547.683</td>\n",
       "      <td>NaN</td>\n",
       "      <td>NaN</td>\n",
       "      <td>132.327</td>\n",
       "      <td>58.6337</td>\n",
       "      <td>...</td>\n",
       "      <td>0.079267</td>\n",
       "      <td>NaN</td>\n",
       "      <td>NaN</td>\n",
       "      <td>NaN</td>\n",
       "      <td>185.268</td>\n",
       "      <td>41.5219</td>\n",
       "      <td>90.805</td>\n",
       "      <td>310.798</td>\n",
       "      <td>236.885</td>\n",
       "      <td>False</td>\n",
       "    </tr>\n",
       "    <tr>\n",
       "      <th>5</th>\n",
       "      <td>10/10/2019</td>\n",
       "      <td>9:09:04</td>\n",
       "      <td>2476</td>\n",
       "      <td>740</td>\n",
       "      <td>38</td>\n",
       "      <td>547.002</td>\n",
       "      <td>NaN</td>\n",
       "      <td>NaN</td>\n",
       "      <td>131.65</td>\n",
       "      <td>58.0041</td>\n",
       "      <td>...</td>\n",
       "      <td>0.078627</td>\n",
       "      <td>NaN</td>\n",
       "      <td>NaN</td>\n",
       "      <td>NaN</td>\n",
       "      <td>184.255</td>\n",
       "      <td>66.4823</td>\n",
       "      <td>65.1677</td>\n",
       "      <td>165.1</td>\n",
       "      <td>381.903</td>\n",
       "      <td>False</td>\n",
       "    </tr>\n",
       "    <tr>\n",
       "      <th>6</th>\n",
       "      <td>10/10/2019</td>\n",
       "      <td>12:34:23</td>\n",
       "      <td>2681</td>\n",
       "      <td>1030</td>\n",
       "      <td>39</td>\n",
       "      <td>741.969</td>\n",
       "      <td>NaN</td>\n",
       "      <td>NaN</td>\n",
       "      <td>131.199</td>\n",
       "      <td>57.5108</td>\n",
       "      <td>...</td>\n",
       "      <td>0.0617245</td>\n",
       "      <td>NaN</td>\n",
       "      <td>NaN</td>\n",
       "      <td>NaN</td>\n",
       "      <td>233.178</td>\n",
       "      <td>56.2087</td>\n",
       "      <td>74.9905</td>\n",
       "      <td>314.599</td>\n",
       "      <td>427.37</td>\n",
       "      <td>False</td>\n",
       "    </tr>\n",
       "    <tr>\n",
       "      <th>7</th>\n",
       "      <td>10/10/2019</td>\n",
       "      <td>15:53:01</td>\n",
       "      <td>2880</td>\n",
       "      <td>1070</td>\n",
       "      <td>42</td>\n",
       "      <td>741.024</td>\n",
       "      <td>NaN</td>\n",
       "      <td>NaN</td>\n",
       "      <td>130.963</td>\n",
       "      <td>56.6324</td>\n",
       "      <td>...</td>\n",
       "      <td>0.0609164</td>\n",
       "      <td>NaN</td>\n",
       "      <td>NaN</td>\n",
       "      <td>NaN</td>\n",
       "      <td>128.955</td>\n",
       "      <td>22.7544</td>\n",
       "      <td>108.209</td>\n",
       "      <td>289.601</td>\n",
       "      <td>451.423</td>\n",
       "      <td>False</td>\n",
       "    </tr>\n",
       "    <tr>\n",
       "      <th>8</th>\n",
       "      <td>10/11/2019</td>\n",
       "      <td>8:33:03</td>\n",
       "      <td>3880</td>\n",
       "      <td>870</td>\n",
       "      <td>43</td>\n",
       "      <td>739.669</td>\n",
       "      <td>NaN</td>\n",
       "      <td>NaN</td>\n",
       "      <td>130.277</td>\n",
       "      <td>55.9961</td>\n",
       "      <td>...</td>\n",
       "      <td>0.0604059</td>\n",
       "      <td>NaN</td>\n",
       "      <td>NaN</td>\n",
       "      <td>NaN</td>\n",
       "      <td>175.987</td>\n",
       "      <td>66.3486</td>\n",
       "      <td>63.9285</td>\n",
       "      <td>188.893</td>\n",
       "      <td>550.775</td>\n",
       "      <td>False</td>\n",
       "    </tr>\n",
       "    <tr>\n",
       "      <th>9</th>\n",
       "      <td>10/11/2019</td>\n",
       "      <td>12:50:14</td>\n",
       "      <td>4137</td>\n",
       "      <td>15</td>\n",
       "      <td>22</td>\n",
       "      <td>739.617</td>\n",
       "      <td>NaN</td>\n",
       "      <td>NaN</td>\n",
       "      <td>129.443</td>\n",
       "      <td>55.1561</td>\n",
       "      <td>...</td>\n",
       "      <td>0.0596107</td>\n",
       "      <td>NaN</td>\n",
       "      <td>NaN</td>\n",
       "      <td>NaN</td>\n",
       "      <td>131.321</td>\n",
       "      <td>146.618</td>\n",
       "      <td>-17.1748</td>\n",
       "      <td>160.714</td>\n",
       "      <td>578.903</td>\n",
       "      <td>False</td>\n",
       "    </tr>\n",
       "  </tbody>\n",
       "</table>\n",
       "<p>10 rows × 47 columns</p>\n",
       "</div>"
      ],
      "text/plain": [
       "         date      time  elapsed time [min]  pressure [psi]  temperature [C]  \\\n",
       "0   10/9/2019   8:30:28                 997             830               32   \n",
       "1   10/9/2019   8:42:48                1009             810               31   \n",
       "2   10/9/2019  12:29:43                1236             855               21   \n",
       "3   10/9/2019  14:50:56                1377             860               20   \n",
       "4   10/9/2019  16:40:26                1487             840               19   \n",
       "5  10/10/2019   9:09:04                2476             740               38   \n",
       "6  10/10/2019  12:34:23                2681            1030               39   \n",
       "7  10/10/2019  15:53:01                2880            1070               42   \n",
       "8  10/11/2019   8:33:03                3880             870               43   \n",
       "9  10/11/2019  12:50:14                4137              15               22   \n",
       "\n",
       "  mass co2 [g] mass co2 (leak) [g] mass co2 [g] (corr) mass c5 [g]  \\\n",
       "0      288.227                 NaN                 NaN      134.18   \n",
       "1      287.334                 NaN                 NaN      133.61   \n",
       "2      453.017                 NaN                 NaN     133.149   \n",
       "3      548.656                 NaN                 NaN      132.72   \n",
       "4      547.683                 NaN                 NaN     132.327   \n",
       "5      547.002                 NaN                 NaN      131.65   \n",
       "6      741.969                 NaN                 NaN     131.199   \n",
       "7      741.024                 NaN                 NaN     130.963   \n",
       "8      739.669                 NaN                 NaN     130.277   \n",
       "9      739.617                 NaN                 NaN     129.443   \n",
       "\n",
       "  mass polyol [g]  ...  w polyol (tot) [w/w]  w co2 (tot) [w/w] (corr)  \\\n",
       "0         60.9734  ...              0.125865                       NaN   \n",
       "1         60.4022  ...              0.125212                       NaN   \n",
       "2         59.8369  ...             0.0924754                       NaN   \n",
       "3         59.2666  ...             0.0799067                       NaN   \n",
       "4         58.6337  ...              0.079267                       NaN   \n",
       "5         58.0041  ...              0.078627                       NaN   \n",
       "6         57.5108  ...             0.0617245                       NaN   \n",
       "7         56.6324  ...             0.0609164                       NaN   \n",
       "8         55.9961  ...             0.0604059                       NaN   \n",
       "9         55.1561  ...             0.0596107                       NaN   \n",
       "\n",
       "  w c5 (tot) [w/w] (corr) w polyol (tot) [w/w] (corr) liquid volume [mL]  \\\n",
       "0                     NaN                         NaN            212.013   \n",
       "1                     NaN                         NaN            211.493   \n",
       "2                     NaN                         NaN            211.714   \n",
       "3                     NaN                         NaN            207.838   \n",
       "4                     NaN                         NaN            185.268   \n",
       "5                     NaN                         NaN            184.255   \n",
       "6                     NaN                         NaN            233.178   \n",
       "7                     NaN                         NaN            128.955   \n",
       "8                     NaN                         NaN            175.987   \n",
       "9                     NaN                         NaN            131.321   \n",
       "\n",
       "  mass c5 (pred) [g]  mass c5 (missing) [g]  mass co2 (pred) [g]  \\\n",
       "0            63.9693                70.2105              217.974   \n",
       "1            63.9594                69.6502               219.37   \n",
       "2            52.5207                 80.628              266.138   \n",
       "3            48.0806                84.6398              271.157   \n",
       "4            41.5219                 90.805              310.798   \n",
       "5            66.4823                65.1677                165.1   \n",
       "6            56.2087                74.9905              314.599   \n",
       "7            22.7544                108.209              289.601   \n",
       "8            66.3486                63.9285              188.893   \n",
       "9            146.618               -17.1748              160.714   \n",
       "\n",
       "   mass co2 (missing) [g]  is error  \n",
       "0                 70.2533     False  \n",
       "1                 67.9643     False  \n",
       "2                 186.879     False  \n",
       "3                 277.499     False  \n",
       "4                 236.885     False  \n",
       "5                 381.903     False  \n",
       "6                  427.37     False  \n",
       "7                 451.423     False  \n",
       "8                 550.775     False  \n",
       "9                 578.903     False  \n",
       "\n",
       "[10 rows x 47 columns]"
      ]
     },
     "execution_count": 142,
     "metadata": {},
     "output_type": "execute_result"
    }
   ],
   "source": [
    "df3"
   ]
  },
  {
   "cell_type": "markdown",
   "metadata": {},
   "source": [
    "## Demonstrate equilibrium time of ternary system"
   ]
  },
  {
   "cell_type": "code",
   "execution_count": 143,
   "metadata": {},
   "outputs": [
    {
     "data": {
      "text/plain": [
       "(0, 300000000.0)"
      ]
     },
     "execution_count": 143,
     "metadata": {},
     "output_type": "execute_result"
    },
    {
     "data": {
      "image/png": "[encoded data removed]",
      "text/plain": [
       "<Figure size 432x288 with 1 Axes>"
      ]
     },
     "metadata": {},
     "output_type": "display_data"
    }
   ],
   "source": [
    "import matplotlib.pyplot as plt\n",
    "\n",
    "# demonstration\n",
    "inds = [not m.is_error for p_step in exp.p_step_list for m in p_step.measurement_list]\n",
    "plt.plot((df['elapsed time [min]'].to_numpy(dtype=float)[inds]-1030)/60, \n",
    "         df['peak area (front) co2 [a.u.]'].to_numpy(dtype=float)[inds], \n",
    "#             df['pressure [psi]'].to_numpy(dtype=float)[inds], \n",
    "         '^', lw=0, ms=8)\n",
    "plt.xlabel('time elapsed [h]', fontsize=20)\n",
    "plt.ylabel('peak area [a.u.]', fontsize=20)\n",
    "plt.title('GC Signal for CO2 in Liquid', fontsize=20)\n",
    "plt.xlim([0,8])\n",
    "plt.ylim([0, 3.0E8])"
   ]
  },
  {
   "cell_type": "code",
   "execution_count": 144,
   "metadata": {},
   "outputs": [
    {
     "data": {
      "text/plain": [
       "(6, 35)"
      ]
     },
     "execution_count": 144,
     "metadata": {},
     "output_type": "execute_result"
    },
    {
     "data": {
      "image/png": "[encoded data removed]",
      "text/plain": [
       "<Figure size 432x288 with 1 Axes>"
      ]
     },
     "metadata": {},
     "output_type": "display_data"
    }
   ],
   "source": [
    "plt.plot((df['elapsed time [min]'].to_numpy(dtype=float)[inds]-1030)/60, \n",
    "         df['peak area (front) co2 [a.u.]'].to_numpy(dtype=float)[inds], \n",
    "#             df['pressure [psi]'].to_numpy(dtype=float)[inds], \n",
    "         '^', lw=0, ms=8)\n",
    "plt.xlabel('time elapsed [h]', fontsize=20)\n",
    "plt.ylabel('peak area [a.u.]', fontsize=20)\n",
    "plt.title('GC Signal for CO2 in Liquid', fontsize=20)\n",
    "plt.xlim([6,35])"
   ]
  },
  {
   "cell_type": "code",
   "execution_count": 145,
   "metadata": {},
   "outputs": [
    {
     "data": {
      "text/plain": [
       "Text(0.5,1,'GC Signal for CO2 in Liquid')"
      ]
     },
     "execution_count": 145,
     "metadata": {},
     "output_type": "execute_result"
    },
    {
     "data": {
      "image/png": "[encoded data removed]",
      "text/plain": [
       "<Figure size 432x288 with 1 Axes>"
      ]
     },
     "metadata": {},
     "output_type": "display_data"
    }
   ],
   "source": [
    "plt.plot(df['pressure [psi]'].to_numpy(dtype=float)[inds], \n",
    "         df['peak area (front) co2 [a.u.]'].to_numpy(dtype=float)[inds], \n",
    "#             df['pressure [psi]'].to_numpy(dtype=float)[inds], \n",
    "         '^', lw=0, ms=8)\n",
    "plt.xlabel('pressure [psi]', fontsize=20)\n",
    "plt.ylabel('peak area [a.u.]', fontsize=20)\n",
    "plt.title('GC Signal for CO2 in Liquid', fontsize=20)"
   ]
  },
  {
   "cell_type": "code",
   "execution_count": 146,
   "metadata": {},
   "outputs": [
    {
     "data": {
      "text/plain": [
       "(0, 1200)"
      ]
     },
     "execution_count": 146,
     "metadata": {},
     "output_type": "execute_result"
    },
    {
     "data": {
      "image/png": "[encoded data removed]",
      "text/plain": [
       "<Figure size 432x288 with 2 Axes>"
      ]
     },
     "metadata": {},
     "output_type": "display_data"
    }
   ],
   "source": [
    "ax1, ax2 = plot.plot_two_axes(df['elapsed time [min]'].to_numpy(dtype=float)[inds]/60,\n",
    "                   df['pressure [psi]'].to_numpy(dtype=float)[inds], \n",
    "         df['peak area (front) co2 [a.u.]'].to_numpy(dtype=float)[inds], \n",
    "                   xlabel='time [h]', ylabels=['pressure [psi]', 'peak area [a.u.]'],\n",
    "                   title='GC Signal for CO2 in Liquid')\n",
    "ax1.set_ylim([0,1200])"
   ]
  },
  {
   "cell_type": "markdown",
   "metadata": {},
   "source": [
    "## Demonstrate effect of waiting after stopping mixing\n",
    "\n",
    "Didn't see any effect. Not sure what to plot here."
   ]
  },
  {
   "cell_type": "code",
   "execution_count": 147,
   "metadata": {},
   "outputs": [
    {
     "name": "stdout",
     "output_type": "stream",
     "text": [
      "[0, 0, 0, 1, 1, 1, 1, 1, 2, 3, 3, 3, 3, 3, 3, 3, 4, 4, 4, 5, 5, 6, 6, 6]\n",
      "[-0.008620689655172414, -0.01567398119122257, 0.0021436227224008574, 0.014347202295552367, 0.004160887656033287, 0.015193370165745856, -0.0013605442176870747, 0.02364864864864865, 0.019148936170212766, -0.005649717514124294]\n"
     ]
    },
    {
     "data": {
      "image/png": "[encoded data removed]",
      "text/plain": [
       "<Figure size 432x288 with 1 Axes>"
      ]
     },
     "metadata": {},
     "output_type": "display_data"
    }
   ],
   "source": [
    "# max time of waiting within a single pair of consecutive measurements at the same condition\n",
    "dt_max = 15\n",
    "m_list = [m for p_step in exp.p_step_list for m in p_step.measurement_list if not m.is_error]\n",
    "color_inds = []\n",
    "for i in range(len(m_list)):\n",
    "    m = m_list[i]\n",
    "    ind = exp.p_step_list.index(m.p_step)\n",
    "    color_inds += [ind]\n",
    "print(color_inds)\n",
    "color_list = ['r', 'g', 'b', 'k', 'c', 'm', 'y']\n",
    "marker_list = ['^', 'o']\n",
    "color_marker_list = [(color, marker) for color in color_list for marker in marker_list]\n",
    "p_list = [m.p for m in m_list]\n",
    "dt_list = [m_list[i+1].elapsed_time - m_list[i].elapsed_time \n",
    "           for i in range(len(m_list)-1)]\n",
    "dpa_f_c5_list =  [m_list[i+1].pa_f_c5 - m_list[i].pa_f_c5 for i in range(len(m_list)-1)]\n",
    "dt_stop_mixing = np.array([dt for dt in dt_list if dt < dt_max])\n",
    "stop_mixing_data = [(dt_list[i], dpa_f_c5_list[i]/m_list[i].pa_f_c5, p_list[i], color_marker_list[color_inds[i]])\n",
    "                             for i in range(len(dpa_f_c5_list)) if dt_list[i] < dt_max]\n",
    "dt_stop_mixing = [elem[0] for elem in stop_mixing_data]\n",
    "dpa_f_c5_stop_mixing = [elem[1] for elem in stop_mixing_data]\n",
    "color_markers = [elem[3] for elem in stop_mixing_data]\n",
    "print(dpa_f_c5_stop_mixing)\n",
    "ax = plot.plot_line(dt_stop_mixing[0], dpa_f_c5_stop_mixing[0], marker=color_marker_list[0][1], xlabel='wait time [min]', \n",
    "                   ylabel=r'$\\Delta(peak area)_{c5}/(peak area)_{c5}$', title='Change in Signal While not Mixing',\n",
    "                  t_fs=16, color=color_marker_list[0][0])\n",
    "for i in range(1, len(dt_stop_mixing)):\n",
    "    c, m = color_markers[i]\n",
    "    ax = plot.plot_line(dt_stop_mixing[i], dpa_f_c5_stop_mixing[i], ax=ax, marker=m, color=c)"
   ]
  },
  {
   "cell_type": "markdown",
   "metadata": {},
   "source": [
    "## Weight Fractions for Comparison to PC-SAFT Phase Diagrams\n",
    "\n",
    "Below we read out the computed weight fractions at each pressure to compare to predictions from the PC-SAFT model."
   ]
  },
  {
   "cell_type": "code",
   "execution_count": 148,
   "metadata": {},
   "outputs": [
    {
     "name": "stdout",
     "output_type": "stream",
     "text": [
      "p = 2.5 MPa : T = 41 C : w_c5 (liq) = 0.44 : w_co2 (liq) = 0.05 : w_c5 (vap) = 0.09 : w_co2 (vap) = 0.91 : w_poly_tot = 0.46: w_c5_tot = 0.44\n",
      "p = 2.3 MPa : T = 39 C : w_c5 (liq) = 0.41 : w_co2 (liq) = 0.10 : w_c5 (vap) = 0.06 : w_co2 (vap) = 0.94 : w_poly_tot = 0.46: w_c5_tot = 0.44\n",
      "p = 2.3 MPa : T = 38 C : w_c5 (liq) = 0.40 : w_co2 (liq) = 0.10 : w_c5 (vap) = 0.05 : w_co2 (vap) = 0.95 : w_poly_tot = 0.46: w_c5_tot = 0.44\n",
      "p = 5.0 MPa : T = 34 C : w_c5 (liq) = 0.33 : w_co2 (liq) = 0.25 : w_c5 (vap) = 0.04 : w_co2 (vap) = 0.96 : w_poly_tot = 0.39: w_c5_tot = 0.37\n",
      "p = 5.0 MPa : T = 33 C : w_c5 (liq) = 0.32 : w_co2 (liq) = 0.26 : w_c5 (vap) = 0.04 : w_co2 (vap) = 0.96 : w_poly_tot = 0.39: w_c5_tot = 0.37\n",
      "p = 5.1 MPa : T = 36 C : w_c5 (liq) = 0.31 : w_co2 (liq) = 0.25 : w_c5 (vap) = 0.03 : w_co2 (vap) = 0.97 : w_poly_tot = 0.39: w_c5_tot = 0.37\n",
      "p = 5.1 MPa : T = 39 C : w_c5 (liq) = 0.32 : w_co2 (liq) = 0.25 : w_c5 (vap) = 0.03 : w_co2 (vap) = 0.97 : w_poly_tot = 0.39: w_c5_tot = 0.37\n",
      "p = 5.1 MPa : T = 41 C : w_c5 (liq) = 0.32 : w_co2 (liq) = 0.25 : w_c5 (vap) = 0.04 : w_co2 (vap) = 0.96 : w_poly_tot = 0.39: w_c5_tot = 0.37\n",
      "p = 6.0 MPa : T = 40 C : w_c5 (liq) = 0.29 : w_co2 (liq) = 0.29 : w_c5 (vap) = 0.03 : w_co2 (vap) = 0.97 : w_poly_tot = 0.31: w_c5_tot = 0.30\n",
      "p = 6.8 MPa : T = 39 C : w_c5 (liq) = 0.24 : w_co2 (liq) = 0.38 : w_c5 (vap) = 0.02 : w_co2 (vap) = 0.98 : w_poly_tot = 0.26: w_c5_tot = 0.25\n",
      "p = 6.8 MPa : T = 34 C : w_c5 (liq) = 0.23 : w_co2 (liq) = 0.39 : w_c5 (vap) = 0.02 : w_co2 (vap) = 0.98 : w_poly_tot = 0.25: w_c5_tot = 0.25\n",
      "p = 6.8 MPa : T = 37 C : w_c5 (liq) = 0.23 : w_co2 (liq) = 0.39 : w_c5 (vap) = 0.02 : w_co2 (vap) = 0.98 : w_poly_tot = 0.25: w_c5_tot = 0.25\n",
      "p = 6.8 MPa : T = 39 C : w_c5 (liq) = 0.24 : w_co2 (liq) = 0.36 : w_c5 (vap) = 0.02 : w_co2 (vap) = 0.98 : w_poly_tot = 0.25: w_c5_tot = 0.25\n",
      "p = 6.8 MPa : T = 39 C : w_c5 (liq) = 0.24 : w_co2 (liq) = 0.36 : w_c5 (vap) = 0.02 : w_co2 (vap) = 0.98 : w_poly_tot = 0.25: w_c5_tot = 0.25\n",
      "p = 6.8 MPa : T = 38 C : w_c5 (liq) = 0.24 : w_co2 (liq) = 0.35 : w_c5 (vap) = 0.02 : w_co2 (vap) = 0.98 : w_poly_tot = 0.25: w_c5_tot = 0.25\n",
      "p = 6.7 MPa : T = 37 C : w_c5 (liq) = 0.24 : w_co2 (liq) = 0.34 : w_c5 (vap) = 0.02 : w_co2 (vap) = 0.98 : w_poly_tot = 0.25: w_c5_tot = 0.25\n",
      "p = 7.3 MPa : T = 38 C : w_c5 (liq) = 0.20 : w_co2 (liq) = 0.44 : w_c5 (vap) = 0.03 : w_co2 (vap) = 0.97 : w_poly_tot = 0.20: w_c5_tot = 0.20\n",
      "p = 7.1 MPa : T = 37 C : w_c5 (liq) = 0.19 : w_co2 (liq) = 0.40 : w_c5 (vap) = 0.04 : w_co2 (vap) = 0.96 : w_poly_tot = 0.20: w_c5_tot = 0.20\n",
      "p = 7.1 MPa : T = 36 C : w_c5 (liq) = 0.20 : w_co2 (liq) = 0.41 : w_c5 (vap) = 0.03 : w_co2 (vap) = 0.97 : w_poly_tot = 0.20: w_c5_tot = 0.20\n",
      "p = 7.6 MPa : T = 36 C : w_c5 (liq) = 0.17 : w_co2 (liq) = 0.42 : w_c5 (vap) = 0.04 : w_co2 (vap) = 0.96 : w_poly_tot = 0.15: w_c5_tot = 0.16\n",
      "p = 7.5 MPa : T = 36 C : w_c5 (liq) = 0.15 : w_co2 (liq) = 0.39 : w_c5 (vap) = 0.03 : w_co2 (vap) = 0.97 : w_poly_tot = 0.15: w_c5_tot = 0.16\n",
      "p = 7.5 MPa : T = 37 C : w_c5 (liq) = 0.15 : w_co2 (liq) = 0.38 : w_c5 (vap) = 0.04 : w_co2 (vap) = 0.96 : w_poly_tot = 0.15: w_c5_tot = 0.16\n",
      "p = 6.7 MPa : T = 31 C : w_c5 (liq) = 0.17 : w_co2 (liq) = 0.43 : w_c5 (vap) = 0.02 : w_co2 (vap) = 0.98 : w_poly_tot = 0.15: w_c5_tot = 0.16\n",
      "p = 6.7 MPa : T = 31 C : w_c5 (liq) = 0.17 : w_co2 (liq) = 0.43 : w_c5 (vap) = 0.02 : w_co2 (vap) = 0.98 : w_poly_tot = 0.15: w_c5_tot = 0.16\n"
     ]
    },
    {
     "data": {
      "text/plain": [
       "[None,\n",
       " None,\n",
       " None,\n",
       " None,\n",
       " None,\n",
       " None,\n",
       " None,\n",
       " None,\n",
       " None,\n",
       " None,\n",
       " None,\n",
       " None,\n",
       " None,\n",
       " None,\n",
       " None,\n",
       " None,\n",
       " None,\n",
       " None,\n",
       " None,\n",
       " None,\n",
       " None,\n",
       " None,\n",
       " None,\n",
       " None]"
      ]
     },
     "execution_count": 148,
     "metadata": {},
     "output_type": "execute_result"
    }
   ],
   "source": [
    "[print('p = {0:.1f} MPa : T = {1:d} C : w_c5 (liq) = {2:.2f} : w_co2 (liq) = {3:.2f} : w_c5 (vap) = {4:.2f} : w_co2 (vap) = {5:.2f} : w_poly_tot = {6:.2f}: w_c5_tot = {7:.2f}'\\\n",
    "       .format(m.p/145, m.T, m.w_l_c5, m.w_l_co2, m.w_v_c5, m.w_v_co2, m.m_poly/(m.m_poly+m.m_c5+m.m_co2), m.m_c5/(m.m_poly+m.m_c5+m.m_co2))) for p_step in exp.p_step_list for m in \n",
    "       p_step.measurement_list if not m.is_error]"
   ]
  },
  {
   "cell_type": "code",
   "execution_count": 149,
   "metadata": {},
   "outputs": [
    {
     "data": {
      "text/plain": [
       "290.91962017551714"
      ]
     },
     "execution_count": 149,
     "metadata": {},
     "output_type": "execute_result"
    }
   ],
   "source": [
    "exp.m_co2"
   ]
  },
  {
   "cell_type": "code",
   "execution_count": 150,
   "metadata": {},
   "outputs": [
    {
     "data": {
      "text/plain": [
       "array([ 365,  340,  340,  730,  730,  740,  745,  745,  875,  875,  980,\n",
       "        985,  985,  990,  980,  980,  980,  975, 1065, 1035, 1030, 1100,\n",
       "       1085, 1090,  970,  970])"
      ]
     },
     "execution_count": 150,
     "metadata": {},
     "output_type": "execute_result"
    }
   ],
   "source": [
    "exp.get_p()"
   ]
  },
  {
   "cell_type": "code",
   "execution_count": 151,
   "metadata": {},
   "outputs": [
    {
     "data": {
      "text/plain": [
       "[18.06462071679782,\n",
       " 50.74468209532125,\n",
       " 94.7031021688401,\n",
       " 143.4655115739076,\n",
       " 209.07665712156057,\n",
       " 295.8340535817582,\n",
       " 293.81922527131155]"
      ]
     },
     "execution_count": 151,
     "metadata": {},
     "output_type": "execute_result"
    }
   ],
   "source": [
    "[p_step.m_co2 for p_step in exp.p_step_list]"
   ]
  },
  {
   "cell_type": "code",
   "execution_count": 152,
   "metadata": {},
   "outputs": [
    {
     "data": {
      "text/plain": [
       "(0, 3500000.0)"
      ]
     },
     "execution_count": 152,
     "metadata": {},
     "output_type": "execute_result"
    },
    {
     "data": {
      "image/png": "[encoded data removed]",
      "text/plain": [
       "<Figure size 432x288 with 2 Axes>"
      ]
     },
     "metadata": {},
     "output_type": "display_data"
    }
   ],
   "source": [
    "reload(plot)\n",
    "m_gas = exp.get_meas(p_min=960, p_max=965, T_max=38)\n",
    "p_gas = [m.p for m in m_gas] \n",
    "pa_b_co2_arr = df['peak area (back) co2 [a.u.]'].iloc[13:18]\n",
    "pa_b_c5_arr = df['peak area (back) c5 [a.u.]'].iloc[13:18]\n",
    "V_flush = np.array([5, 13, 15, 150, 350])\n",
    "ax1, ax2 = plot.plot_two_axes(V_flush, pa_b_co2_arr, pa_b_c5_arr, xlabel='volume flushed [mL]', ylabels=['peak area co2 [a.u.]',\n",
    "                                                                                                  'peak area c5 [a.u.]'],\n",
    "              title='Vapor Signal vs. Flush Volume', t_fs=16, labels=['CO2', 'C5'])\n",
    "ax1.set_ylim([0, 9.0E7])\n",
    "ax2.set_ylim([0, 3.5E6])"
   ]
  },
  {
   "cell_type": "markdown",
   "metadata": {},
   "source": [
    "### Check that the amount of CO2 injected in the Parr reactor makes sense\n",
    "\n",
    "I'm concerned that I'm not calculating the amount of CO2 dispensed into the Parr reactor correctly.\n",
    "\n",
    "*The problem was that I was assuming that when we refilled the ISCO, it was completely liquid. Instead, it is likely that it is in vapor-liquid equilibrium with a headspace. For this reason, I need to pressurize the ISCO after refilling and record **that** pressure and volume.*"
   ]
  },
  {
   "cell_type": "code",
   "execution_count": 153,
   "metadata": {},
   "outputs": [
    {
     "data": {
      "text/plain": [
       "[18.06462071679782,\n",
       " 50.74468209532125,\n",
       " -53.827600727614964,\n",
       " -5.065191322547463,\n",
       " -14.884402373627552,\n",
       " -69.40200970742399,\n",
       " -71.41683801787065]"
      ]
     },
     "execution_count": 153,
     "metadata": {},
     "output_type": "execute_result"
    }
   ],
   "source": [
    "# more co2 is dispensed in the Parr reactor than has been loaded in the ISCO pump by my calculations\n",
    "[p_step.m_co2 - p_step.m_co2_refill for p_step in exp.p_step_list]"
   ]
  },
  {
   "cell_type": "code",
   "execution_count": 154,
   "metadata": {
    "scrolled": false
   },
   "outputs": [
    {
     "name": "stdout",
     "output_type": "stream",
     "text": [
      "1000 370 1000 289.1 18.06462071679782\n",
      "1000 282.5 1000 134.16 50.74468209532125\n",
      "1200 274 1200 203 94.7031021688401\n",
      "1200 196.3 1400 107.9 143.4655115739076\n",
      "1405 101 1405 5.8 209.07665712156057\n",
      "1400 232.8 1400 109.6 295.8340535817582\n",
      "1400 92.7 1400 92.7 293.81922527131155\n"
     ]
    },
    {
     "data": {
      "text/plain": [
       "[None, None, None, None, None, None, None]"
      ]
     },
     "execution_count": 154,
     "metadata": {},
     "output_type": "execute_result"
    }
   ],
   "source": [
    "[print(p_step.p_isco_i, p_step.V_isco_i, p_step.p_isco_f, p_step.V_isco_f, p_step.m_co2) for p_step in exp.p_step_list]"
   ]
  },
  {
   "cell_type": "code",
   "execution_count": 155,
   "metadata": {},
   "outputs": [
    {
     "data": {
      "text/plain": [
       "0.14958082481592233"
      ]
     },
     "execution_count": 155,
     "metadata": {},
     "output_type": "execute_result"
    }
   ],
   "source": [
    "exp.m_poly/(exp.m_co2+exp.m_c5+exp.m_poly)"
   ]
  },
  {
   "cell_type": "code",
   "execution_count": 156,
   "metadata": {},
   "outputs": [
    {
     "name": "stdout",
     "output_type": "stream",
     "text": [
      "739.616756232193 55.15606376645115 129.44313168787784 15 22\n"
     ]
    }
   ],
   "source": [
    "print(exp3.m_co2, exp3.m_poly, exp3.m_c5, exp3.p_step_list[-1].measurement_list[-1].p, \n",
    "      exp3.p_step_list[-1].measurement_list[-1].T)"
   ]
  },
  {
   "cell_type": "markdown",
   "metadata": {},
   "source": [
    "# Diagnosing Leak of Vapor Phase\n",
    "\n",
    "Having noticed a leak in the needle valve, overestimates of the total mass of CO2 in the Parr reactor when compared to the expected mass based on GC results, and consistent decreases in Parr reactor pressure overnight of 10s of psi, we have concluded that the vapor phase is leaking out of the Parr. We have decided to estimate the rate of this leak based on the decrease in mass expected based on the PC-SAFT model for the given conditions from the beginning to the end of each pressure step. This approximation follows from our assumption that the leak rate is proportional to the pressure, which remains roughly constant during the course of a single pressure step. The leak rate will thus be assumed to be constant."
   ]
  },
  {
   "cell_type": "code",
   "execution_count": 157,
   "metadata": {
    "scrolled": true
   },
   "outputs": [],
   "source": [
    "reload(experiment)\n",
    "\n",
    "exp_list = [exp, exp2, exp3]\n",
    "leak_data_mat = [['pi', 'Ti', 'm_co2i', 'm_polyi', 'm_c5i', 'pf', 'Tf', 'm_co2f', 'm_polyf', 'm_c5f', 'duration [min]']]\n",
    "for e in exp_list:\n",
    "    for p_step in e.p_step_list:\n",
    "        leak_data = p_step.get_leak_info()\n",
    "        leak_data_mat += [leak_data]\n",
    "        \n",
    "leak_data_mat = np.array(leak_data_mat)\n",
    "df_leak_data = pd.DataFrame(data=leak_data_mat[1:,:], columns=leak_data_mat[0,:])\n",
    "df_leak_data.to_csv(\"leak_data.csv\", index=False)"
   ]
  },
  {
   "cell_type": "markdown",
   "metadata": {},
   "source": [
    "### STOP!\n",
    "\n",
    "Go to the new leak data file and fill in the following columns:\n",
    "\n",
    "* `m_co2_expi`: expected mass of CO2 based on pressure, temperature, mass of cyclopentane, and mass of polyol at the beginning of the pressure step. This can be calculated using the Mathematica code in the notebook `ppg1k_p_given_m.nb` based on the PC-SAFT model\n",
    "* `m_co2_expf`: same as `m_co2_expi` but for the data at the end of the pressure step.\n",
    "* `dm`: the difference `m_co2_expi` - `m_co2_expf`.\n",
    "* `leak rate [g/min]`: `dm` / `duration`\n",
    "\n",
    "Having computed the change in mass during each pressure step, we will estimate the linear leak rate by dividing by the duration of each pressure step."
   ]
  },
  {
   "cell_type": "code",
   "execution_count": 158,
   "metadata": {},
   "outputs": [],
   "source": [
    "df_leak = pd.read_csv('leak_data_filled_out.csv')\n",
    "dm_list = df_leak['dm'].to_numpy(dtype=float)\n",
    "exp_list = [exp, exp2, exp3]\n",
    "leak_rate_list = []\n",
    "i = 0\n",
    "for e in exp_list:\n",
    "    for p_step in e.p_step_list:\n",
    "        duration = TimeDate.diff_min(p_step.timedate, p_step.measurement_list[-1].timedate)\n",
    "        leak_rate = dm_list[i]/duration\n",
    "        leak_rate_list += [leak_rate]\n",
    "        i += 1\n",
    "df_leak['leak rate [g/min]'] = leak_rate_list"
   ]
  },
  {
   "cell_type": "code",
   "execution_count": 159,
   "metadata": {
    "scrolled": true
   },
   "outputs": [
    {
     "name": "stderr",
     "output_type": "stream",
     "text": [
      "C:\\Anaconda3\\lib\\site-packages\\pandas\\core\\indexing.py:190: SettingWithCopyWarning: \n",
      "A value is trying to be set on a copy of a slice from a DataFrame\n",
      "\n",
      "See the caveats in the documentation: http://pandas.pydata.org/pandas-docs/stable/indexing.html#indexing-view-versus-copy\n",
      "  self._setitem_with_indexer(indexer, value)\n"
     ]
    }
   ],
   "source": [
    "reload(experiment)\n",
    "save_folder = '../../../Wang/PC-SAFT/Data/'\n",
    "start = 0\n",
    "end = 0\n",
    "i = 0\n",
    "conc = [50, 55, 60]\n",
    "exp_list = [exp, exp2, exp3]\n",
    "m_co2_leak_prev = 0\n",
    "for e in exp_list:\n",
    "    end += len(e.p_step_list)\n",
    "    m_co2_leak_list = e.get_m_co2_leaked(leak_rate_list[start:end])\n",
    "    m_co2_leak_list = [m + m_co2_leak_prev for m in m_co2_leak_list]\n",
    "    m_co2_leak_prev = m_co2_leak_list[-1]\n",
    "    start += len(e.p_step_list)\n",
    "    df_w_leak = e.to_df(m_co2_leak_list=m_co2_leak_list)\n",
    "    df_w_leak.to_csv(save_folder + 'gc_ternary_{0:d}%_c5_data.csv'.format(conc[i]))\n",
    "    i+=1"
   ]
  },
  {
   "cell_type": "markdown",
   "metadata": {},
   "source": [
    "Check that there is no significant time difference between the last measurement and the next pressure step."
   ]
  },
  {
   "cell_type": "code",
   "execution_count": 160,
   "metadata": {},
   "outputs": [
    {
     "name": "stdout",
     "output_type": "stream",
     "text": [
      "pressure step time date 15:50:00 10/2/2019\n",
      "measurement time date 15:50:44 10/2/2019\n",
      "measurement time date 9:09:35 10/3/2019\n",
      "measurement time date 9:19:54 10/3/2019\n",
      "pressure step time date 9:30:00 10/3/2019\n",
      "measurement time date 12:38:37 10/3/2019\n",
      "measurement time date 12:51:33 10/3/2019\n",
      "measurement time date 14:42:25 10/3/2019\n",
      "measurement time date 15:49:22 10/3/2019\n",
      "measurement time date 16:01:11 10/3/2019\n",
      "pressure step time date 16:10:00 10/3/2019\n",
      "measurement time date 8:49:00 10/4/2019\n",
      "measurement time date 8:59:43 10/4/2019\n",
      "pressure step time date 9:10:00 10/4/2019\n",
      "measurement time date 10:41:03 10/4/2019\n",
      "measurement time date 10:54:00 10/4/2019\n",
      "measurement time date 12:21:18 10/4/2019\n",
      "measurement time date 12:29:36 10/4/2019\n",
      "measurement time date 14:29:50 10/4/2019\n",
      "measurement time date 14:42:26 10/4/2019\n",
      "measurement time date 14:55:47 10/4/2019\n",
      "measurement time date 15:05:49 10/4/2019\n",
      "pressure step time date 15:20:00 10/4/2019\n",
      "measurement time date 16:31:34 10/4/2019\n",
      "measurement time date 9:24:42 10/7/2019\n",
      "measurement time date 9:34:46 10/7/2019\n",
      "pressure step time date 9:48:00 10/7/2019\n",
      "measurement time date 11:05:36 10/7/2019\n",
      "measurement time date 14:17:50 10/7/2019\n",
      "pressure step time date 8:34:34 10/8/2019\n",
      "measurement time date 14:24:00 10/7/2019\n",
      "measurement time date 8:34:34 10/8/2019\n",
      "measurement time date 8:40:00 10/8/2019\n",
      "pressure step time date 11:30:01 10/8/2019\n",
      "measurement time date 13:55:00 10/8/2019\n",
      "measurement time date 15:36:51 10/8/2019\n",
      "pressure step time date 16:55:00 10/8/2019\n",
      "measurement time date 8:30:28 10/9/2019\n",
      "measurement time date 8:42:48 10/9/2019\n",
      "pressure step time date 8:50:00 10/9/2019\n",
      "measurement time date 12:29:43 10/9/2019\n",
      "pressure step time date 13:00:00 10/9/2019\n",
      "measurement time date 14:50:56 10/9/2019\n",
      "measurement time date 16:40:26 10/9/2019\n",
      "measurement time date 9:09:04 10/10/2019\n",
      "pressure step time date 11:30:00 10/10/2019\n",
      "measurement time date 12:34:23 10/10/2019\n",
      "measurement time date 15:53:01 10/10/2019\n",
      "pressure step time date 16:00:00 10/10/2019\n",
      "measurement time date 8:33:03 10/11/2019\n",
      "pressure step time date 10:00:00 10/11/2019\n",
      "measurement time date 12:50:14 10/11/2019\n"
     ]
    }
   ],
   "source": [
    "for e in exp_list:\n",
    "    for p in e.p_step_list:\n",
    "        print(\"pressure step time date\", p.timedate.get_time_string(), p.timedate.get_date_string())\n",
    "        for m in p.measurement_list:\n",
    "            print(\"measurement time date\", m.timedate.get_time_string(), m.timedate.get_date_string())\n"
   ]
  },
  {
   "cell_type": "code",
   "execution_count": 161,
   "metadata": {},
   "outputs": [
    {
     "data": {
      "text/plain": [
       "[0.005719733079122974,\n",
       " 0.052429667519181586,\n",
       " 0.008919722497522299,\n",
       " 0.01971830985915493,\n",
       " 0.0027679919476597888,\n",
       " 0.03903345724907063,\n",
       " 0.0,\n",
       " 0.026422764227642278,\n",
       " 0.022175290390707498,\n",
       " 0.1872146118721461,\n",
       " 0.10711331679073614,\n",
       " 0.07224334600760456,\n",
       " 0.0055387713997985906,\n",
       " 0.0]"
      ]
     },
     "execution_count": 161,
     "metadata": {},
     "output_type": "execute_result"
    }
   ],
   "source": [
    "leak_rate_list"
   ]
  },
  {
   "cell_type": "code",
   "execution_count": null,
   "metadata": {},
   "outputs": [],
   "source": []
  }
 ],
 "metadata": {
  "kernelspec": {
   "display_name": "Python 3",
   "language": "python",
   "name": "python3"
  },
  "language_info": {
   "codemirror_mode": {
    "name": "ipython",
    "version": 3
   },
   "file_extension": ".py",
   "mimetype": "text/x-python",
   "name": "python",
   "nbconvert_exporter": "python",
   "pygments_lexer": "ipython3",
   "version": "3.6.5"
  }
 },
 "nbformat": 4,
 "nbformat_minor": 2
}
