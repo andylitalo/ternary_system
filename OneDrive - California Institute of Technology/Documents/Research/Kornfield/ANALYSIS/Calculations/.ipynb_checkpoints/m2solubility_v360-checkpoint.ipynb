{
 "cells": [
  {
   "cell_type": "code",
   "execution_count": 42,
   "metadata": {},
   "outputs": [
    {
     "name": "stdout",
     "output_type": "stream",
     "text": [
      "Pressure in gas phase should be 27.2 bar = 395 psi.\n"
     ]
    }
   ],
   "source": [
    "import PolyolGasMethods as PGM\n",
    "\n",
    "m_co2 = 18-60*0.004\n",
    "m_poly = 150\n",
    "\n",
    "p = PGM.m2p_v360(m_co2, m_poly, rho_poly=1.084, V=240, p0=30E5)\n",
    "print(\"Pressure in gas phase should be %.1f bar = %d psi.\" % (1E-5*p, 14.5E-5*p))"
   ]
  },
  {
   "cell_type": "code",
   "execution_count": null,
   "metadata": {},
   "outputs": [],
   "source": []
  }
 ],
 "metadata": {
  "kernelspec": {
   "display_name": "Python 3",
   "language": "python",
   "name": "python3"
  },
  "language_info": {
   "codemirror_mode": {
    "name": "ipython",
    "version": 3
   },
   "file_extension": ".py",
   "mimetype": "text/x-python",
   "name": "python",
   "nbconvert_exporter": "python",
   "pygments_lexer": "ipython3",
   "version": "3.6.5"
  }
 },
 "nbformat": 4,
 "nbformat_minor": 2
}
