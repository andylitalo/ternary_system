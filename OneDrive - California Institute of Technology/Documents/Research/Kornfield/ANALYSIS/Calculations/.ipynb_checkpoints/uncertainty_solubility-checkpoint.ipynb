{
 "cells": [
  {
   "cell_type": "markdown",
   "metadata": {},
   "source": [
    "### Estimating Uncertainty in Solubility\n",
    "\n",
    "This notebook estimates the uncertainty in the solubility of CO2 in VORANOL 360 polyol."
   ]
  },
  {
   "cell_type": "code",
   "execution_count": 64,
   "metadata": {},
   "outputs": [],
   "source": [
    "import numpy as np\n",
    "import matplotlib.pyplot as plt\n",
    "\n",
    "# USER PARAMETERS\n",
    "\n",
    "# PERMISSIBLE UNCERTAINTIES\n",
    "# uncertainty in volume of polyol [mL]\n",
    "sigma_V_poly = np.sqrt(12)\n",
    "# uncertainty in initial mass of dry ice [g]\n",
    "sigma_m0 = 0.1\n",
    "\n",
    "# VARIABLES\n",
    "# volume of polyol [mL]\n",
    "V_poly = np.arange(10,200,10)\n",
    "\n",
    "sigma_V_poly = np.sqrt(2*V_poly/30)\n",
    "\n",
    "#################################################################\n",
    "# FIXED UNCERTAINTY\n",
    "# uncertainty in temperature [C]\n",
    "sigma_T = 1\n",
    "# uncertainty in span pressure gauge [Pa]\n",
    "sigma_p_span_pa = 5E4\n",
    "# uncertainty in conversion of span gauge to actual pressure\n",
    "sigma_p_conv = 0.11\n",
    "# conversion from span gauge to actual pressure\n",
    "conv = 1.30\n",
    "\n",
    "# CONSTANTS\n",
    "# universal gas constant (J/mol.K)\n",
    "R = 8.314\n",
    "# pascals per psi\n",
    "psi2pa = 6894.75\n",
    "# pa per bar\n",
    "bar2pa = 1E5\n",
    "# m^3 per mL\n",
    "mL2m3 = 1E-6\n",
    "# molar mass of carbon dioxide [g/mol]\n",
    "mw_co2 = 44\n",
    "# density of VORANOL 360 [g/mL]\n",
    "rho_poly = 1.08\n",
    "# volume of Parr reactor [mL]\n",
    "V_tot = 233"
   ]
  },
  {
   "cell_type": "markdown",
   "metadata": {},
   "source": [
    "Load data from Dow for solubility of CO2 in VORANOL 360 polyol at 25 C"
   ]
  },
  {
   "cell_type": "code",
   "execution_count": 67,
   "metadata": {},
   "outputs": [],
   "source": [
    "# copy-paste data from file \"co2_solubility_pressures.xlsx\"\n",
    "data = np.array([[198.1, 0.0372],\n",
    "        [405.6, 0.0821],\n",
    "        [606.1, 0.1351],\n",
    "        [806.8, 0.1993],\n",
    "        [893.9, 0.2336]])\n",
    "# temperature [K]\n",
    "T = 298\n",
    "\n",
    "# first column is pressure in psia\n",
    "p_psia = data[1,0]\n",
    "# second column is solubility in fraction w/w\n",
    "solubility = data[1,1]"
   ]
  },
  {
   "cell_type": "markdown",
   "metadata": {},
   "source": [
    "Convert data into quantities required to calculate the uncertainty."
   ]
  },
  {
   "cell_type": "code",
   "execution_count": 68,
   "metadata": {},
   "outputs": [],
   "source": [
    "# convert pressure to Pa\n",
    "p_pa = psi2pa * p_psia\n",
    "\n",
    "# uncertainty in pressure\n",
    "sigma_p_pa = np.sqrt(sigma_p_span_pa**2 + (sigma_p_conv/conv*p_pa)**2)\n",
    "\n",
    "# compute volume of gas phase in m^3\n",
    "V_gas = V_tot - V_poly\n",
    "V_gas_m3 = mL2m3 * V_gas\n",
    "\n",
    "# number of moles in gas phase\n",
    "n_co2_gas = p_pa*V_gas_m3/(R*T)\n",
    "# mass of co2 in the gas phase [g]\n",
    "m_co2_gas = mw_co2 * n_co2_gas\n",
    "\n",
    "# compute mass of co2 in solution [g]\n",
    "m_poly = rho_poly * V_poly\n",
    "m_co2_soln = solubility * m_poly\n",
    "\n",
    "# uncertainty of mass of co2 in solution\n",
    "sigma_n_co2_gas = np.sqrt((sigma_p_pa/p_pa)**2 + (sigma_V_poly/V_poly)**2 + (sigma_T/T)**2)*n_co2_gas   \n",
    "sigma_m_co2_gas = sigma_n_co2_gas/n_co2_gas*m_co2_gas\n",
    "sigma_m_co2_soln = np.sqrt(sigma_m0**2 + sigma_m_co2_gas**2)\n",
    "\n",
    "# uncertainty in mass of polyol\n",
    "sigma_m_poly = (sigma_V_poly/V_poly)*m_poly"
   ]
  },
  {
   "cell_type": "markdown",
   "metadata": {},
   "source": [
    "Compute uncertainty."
   ]
  },
  {
   "cell_type": "code",
   "execution_count": 69,
   "metadata": {},
   "outputs": [
    {
     "name": "stdout",
     "output_type": "stream",
     "text": [
      "[1.820988   0.79987242 0.49328067 0.3468049  0.26120858 0.20515019\n",
      " 0.16563892 0.13632847 0.11375427 0.09586688 0.08137852 0.06944152\n",
      " 0.05947763 0.05108188 0.04396579 0.03792277 0.03280617 0.02851497\n",
      " 0.02498323]\n"
     ]
    }
   ],
   "source": [
    "sigma_sol_frac = np.sqrt((sigma_m_co2_soln / m_co2_soln)**2 + (sigma_m_poly / m_poly)**2)\n",
    "\n",
    "print(sigma_sol_frac)"
   ]
  },
  {
   "cell_type": "markdown",
   "metadata": {},
   "source": [
    "Plot"
   ]
  },
  {
   "cell_type": "code",
   "execution_count": 72,
   "metadata": {},
   "outputs": [
    {
     "data": {
      "text/plain": [
       "Text(0,0.5,'Fractional Uncertainty in Solubility')"
      ]
     },
     "execution_count": 72,
     "metadata": {},
     "output_type": "execute_result"
    },
    {
     "data": {
      "image/png": "[encoded data removed]",
      "text/plain": [
       "<Figure size 432x288 with 1 Axes>"
      ]
     },
     "metadata": {},
     "output_type": "display_data"
    }
   ],
   "source": [
    "fig = plt.figure()\n",
    "ax = fig.add_subplot(1,1,1)\n",
    "ax.semilogy(V_poly, sigma_sol_frac)\n",
    "ax.set_xlabel('Volume of Polyol [mL]')\n",
    "ax.set_ylabel('Fractional Uncertainty in Solubility')"
   ]
  },
  {
   "cell_type": "code",
   "execution_count": null,
   "metadata": {},
   "outputs": [],
   "source": []
  }
 ],
 "metadata": {
  "kernelspec": {
   "display_name": "Python 3",
   "language": "python",
   "name": "python3"
  },
  "language_info": {
   "codemirror_mode": {
    "name": "ipython",
    "version": 3
   },
   "file_extension": ".py",
   "mimetype": "text/x-python",
   "name": "python",
   "nbconvert_exporter": "python",
   "pygments_lexer": "ipython3",
   "version": "3.6.5"
  }
 },
 "nbformat": 4,
 "nbformat_minor": 2
}
