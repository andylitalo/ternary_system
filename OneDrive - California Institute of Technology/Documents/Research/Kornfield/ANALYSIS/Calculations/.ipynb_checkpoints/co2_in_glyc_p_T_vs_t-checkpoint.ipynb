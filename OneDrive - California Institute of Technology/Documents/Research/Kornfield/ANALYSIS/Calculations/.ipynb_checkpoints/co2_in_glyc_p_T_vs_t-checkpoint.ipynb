{
 "cells": [
  {
   "cell_type": "markdown",
   "metadata": {},
   "source": [
    "# Plotting Pressure and Temperature of CO2 in Glycerol over Time\n",
    "\n",
    "Written December 17, 2018\n",
    "\n",
    "In this notebook, I plot and analyze the pressure and temperature of CO2 generated from dry ice in glycerol. The components are sealed in a Parr reactor, which is not mixed. We hypothesize that we can use these data to estimate the diffusivity of CO2 in glycerol in addition to the solubility.\n",
    "\n",
    "I begin by importing relevant libraries and setting desired parameters."
   ]
  },
  {
   "cell_type": "code",
   "execution_count": 14,
   "metadata": {},
   "outputs": [],
   "source": [
    "import numpy as np\n",
    "import pandas as pd\n",
    "import pickle as pkl\n",
    "\n",
    "import matplotlib.pyplot as plt\n",
    "\n",
    "# user parameters\n",
    "dataFolder = 'Data\\\\'\n",
    "dataFile = '20181217_pT_co2_glyc.pkl'\n",
    "saveFile = '20181219_pT_co2_glyc.pkl' # only gets saved if datafile is blank\n",
    "# CONSTANTS\n",
    "# universal gas constant (J/mol.K)\n",
    "R = 8.314\n",
    "# molar mass of carbon dioxide [g/mol]\n",
    "mWCO2 = 44\n",
    "# atmospheric pressure [bar]\n",
    "pAtm = 1.013\n",
    "# density of glycerol [g/mL]\n",
    "rhoGlyc = 1.26\n",
    "# specific heat capacity of glycerol [J/g.C]\n",
    "cpGlyc = 2.43\n",
    "# heat of sublimation of dry ice [J/g]\n",
    "dHSublimation = 571\n",
    "# rate of sublimation of dry ice [g/s], from 'dry_ice_m_vs_t.ipynb'\n",
    "sublimationRate = 0.004 \n",
    "# inner diameter of teflon cup of Parr reactor [cm]\n",
    "ID = 5.7\n",
    "# volume of Parr reactor [mL]\n",
    "V = 233\n",
    "# pressure conversion [bar from Span gauge -> bar of actual pressure]\n",
    "pSpan2True = 1.43\n",
    "# UNCERTAINTY\n",
    "# uncertainty in pressure [bar]\n",
    "sigmaPSpan = 0.5\n",
    "# uncertainty in pressure conversion\n",
    "sigmaPSpan2True = 0.17\n",
    "# uncertainty in temperature [C]\n",
    "sigmaT = 1\n",
    "# uncertainty in initial mass of dry ice [g]\n",
    "sigmaM0 = 0.1\n",
    "# uncertainty in volume of glycerol [mL]\n",
    "sigmaVolGlyc = 0.5"
   ]
  },
  {
   "cell_type": "markdown",
   "metadata": {},
   "source": [
    "Next I record the data for this experiment, transcribed from my lab notebook."
   ]
  },
  {
   "cell_type": "code",
   "execution_count": 15,
   "metadata": {},
   "outputs": [],
   "source": [
    "# upload existing data\n",
    "try:\n",
    "    with open(dataFolder + dataFile, 'rb') as f:\n",
    "        data = pkl.load(f)\n",
    "    massDryIce0 = data['initial mass of dry ice']\n",
    "    volGlyc = data['volume of glycerol']\n",
    "    sublimationTime = data['sublimation time']\n",
    "    seconds = data['seconds']\n",
    "    minutes = data['minutes']\n",
    "    hours = data['hours']\n",
    "    pSpan = data['span gauge pressure']\n",
    "    T = data['temperature']\n",
    "# input new data\n",
    "except:\n",
    "    # mass of dry ice [g]\n",
    "    massDryIce0 = 14.4\n",
    "    # volume of glycerol [mL]\n",
    "    volGlyc = 29.5\n",
    "    # time of open sublimation (before closing Parr reactor) [s]\n",
    "    sublimationTime = 60\n",
    "    # number of data points\n",
    "    nPts = 36\n",
    "    # time\n",
    "    seconds = np.array([0,15,45,55,23,7,40,56,25,42,54,33,24,54,42,2,50,13,38,31,7,46,49,17,57, \\\n",
    "                       3,43,15,23,44,11,18,28,0,8,0])\n",
    "    minutes = np.array([0,0,0,0,1,2,2,2,3,3,3,4,5,5,6,7,7,8,8,9,10,10,11,12,12,14,15,19,19,19,20,\\\n",
    "                       21,22,24,27,27])\n",
    "    hours = np.array([0,0,0,0,0,0,0,0,0,0,0,0,0,0,0,0,0,0,0,0,0,0,0,0,0,0,0,0,0,0,0,0,0,0,0,2])\n",
    "    # gauge pressure measured by Span pressure gauge [bar]\n",
    "    pSpan = np.array([0,0,0,0,2,3,7,8,10,10.5,11,12,12.5,13,15,15.5,16,16.5,17,17.5,18,18.5, \\\n",
    "                     19,19.5,20,20.5,21,21,21,21,21,21,21,21,21,20.5])\n",
    "    # temperature [C]\n",
    "    T = np.array([27,17,14,12,7,3,np.NaN,np.NaN,np.NaN,np.NaN,np.NaN,np.NaN,np.NaN,np.NaN, \\\n",
    "                  np.NaN,np.NaN,np.NaN,np.NaN,np.NaN,np.NaN,np.NaN,np.NaN,np.NaN,np.NaN,np.NaN, \\\n",
    "                  np.NaN,np.NaN,8,9,10,11,12,13,14,16,27])\n",
    "   \n",
    "    # validate data since data are entered by hand\n",
    "    if len(seconds) != nPts:\n",
    "        print('seconds has incorrect length.')\n",
    "    if len(minutes) != nPts:\n",
    "        print('minutes has incorrect length.')\n",
    "    if len(hours) != nPts:\n",
    "        print('hours has incorrect length.')\n",
    "    if len(pSpan) != nPts:\n",
    "        print('pSpan has incorrect length.')\n",
    "    if len(T) != nPts:\n",
    "        print('T has incorrect length.')\n",
    "\n",
    "    # save data\n",
    "    data = {}\n",
    "    data['initial mass of dry ice'] = massDryIce0\n",
    "    data['volume of glycerol'] = volGlyc\n",
    "    data['sublimation time'] = sublimationTime\n",
    "    data['seconds'] = seconds\n",
    "    data['minutes'] = minutes\n",
    "    data['hours'] = hours\n",
    "    data['span gauge pressure'] = pSpan\n",
    "    data['temperature'] = T\n",
    "    with open(dataFolder + saveFile, 'wb') as f:\n",
    "        pkl.dump(data, f)"
   ]
  },
  {
   "cell_type": "markdown",
   "metadata": {},
   "source": [
    "### Process Data for Data Table"
   ]
  },
  {
   "cell_type": "code",
   "execution_count": 16,
   "metadata": {},
   "outputs": [],
   "source": [
    "# initial mass of dry ice adjusted by the sublimation before closing it in Parr reactor\n",
    "massDryIce0 -= sublimationRate*sublimationTime\n",
    "# time [s]\n",
    "time = 3600*hours + 60*minutes + seconds\n",
    "# absolute pressure [bar]\n",
    "p = pSpan2True*pSpan + pAtm\n",
    "# error in absolute pressure\n",
    "sigmaP = np.zeros(len(pSpan))\n",
    "# propagate error from conversion factor for non-zero pressure readings\n",
    "sigmaP[pSpan!=0] = np.sqrt((sigmaPSpan/pSpan[pSpan!=0])**2 + (sigmaPSpan2True/pSpan2True)**2)* \\\n",
    "    p[pSpan!=0]\n",
    "# assign error in pressure reading for zero pressure readings\n",
    "sigmaP[pSpan==0] = 0.5"
   ]
  },
  {
   "cell_type": "markdown",
   "metadata": {},
   "source": [
    "Next, I will arrange these data into a tidy dataset."
   ]
  },
  {
   "cell_type": "code",
   "execution_count": 17,
   "metadata": {},
   "outputs": [
    {
     "data": {
      "text/html": [
       "<div>\n",
       "<style scoped>\n",
       "    .dataframe tbody tr th:only-of-type {\n",
       "        vertical-align: middle;\n",
       "    }\n",
       "\n",
       "    .dataframe tbody tr th {\n",
       "        vertical-align: top;\n",
       "    }\n",
       "\n",
       "    .dataframe thead th {\n",
       "        text-align: right;\n",
       "    }\n",
       "</style>\n",
       "<table border=\"1\" class=\"dataframe\">\n",
       "  <thead>\n",
       "    <tr style=\"text-align: right;\">\n",
       "      <th></th>\n",
       "      <th>time [s]</th>\n",
       "      <th>pressure [bar]</th>\n",
       "      <th>temperature [C]</th>\n",
       "    </tr>\n",
       "  </thead>\n",
       "  <tbody>\n",
       "    <tr>\n",
       "      <th>0</th>\n",
       "      <td>0</td>\n",
       "      <td>1.013</td>\n",
       "      <td>27.0</td>\n",
       "    </tr>\n",
       "    <tr>\n",
       "      <th>1</th>\n",
       "      <td>30</td>\n",
       "      <td>1.013</td>\n",
       "      <td>26.0</td>\n",
       "    </tr>\n",
       "    <tr>\n",
       "      <th>2</th>\n",
       "      <td>60</td>\n",
       "      <td>1.013</td>\n",
       "      <td>24.0</td>\n",
       "    </tr>\n",
       "    <tr>\n",
       "      <th>3</th>\n",
       "      <td>76</td>\n",
       "      <td>3.873</td>\n",
       "      <td>18.0</td>\n",
       "    </tr>\n",
       "    <tr>\n",
       "      <th>4</th>\n",
       "      <td>105</td>\n",
       "      <td>6.733</td>\n",
       "      <td>11.0</td>\n",
       "    </tr>\n",
       "  </tbody>\n",
       "</table>\n",
       "</div>"
      ],
      "text/plain": [
       "   time [s]  pressure [bar]  temperature [C]\n",
       "0         0           1.013             27.0\n",
       "1        30           1.013             26.0\n",
       "2        60           1.013             24.0\n",
       "3        76           3.873             18.0\n",
       "4       105           6.733             11.0"
      ]
     },
     "execution_count": 17,
     "metadata": {},
     "output_type": "execute_result"
    }
   ],
   "source": [
    "# dictionary of data\n",
    "d = {'time [s]' : pd.Series(time),\n",
    "       'pressure [bar]' : pd.Series(p),\n",
    "       'temperature [C]' : pd.Series(T)}\n",
    "# pandas dataframe\n",
    "df = pd.DataFrame(d)\n",
    "\n",
    "# check out how the dataframe looks\n",
    "df.head()"
   ]
  },
  {
   "cell_type": "markdown",
   "metadata": {},
   "source": [
    "Just as I wanted! Now it's time to plot."
   ]
  },
  {
   "cell_type": "code",
   "execution_count": 24,
   "metadata": {
    "scrolled": true
   },
   "outputs": [
    {
     "name": "stderr",
     "output_type": "stream",
     "text": [
      "C:\\Anaconda3\\lib\\site-packages\\matplotlib\\cbook\\deprecation.py:107: MatplotlibDeprecationWarning: Passing one of 'on', 'true', 'off', 'false' as a boolean is deprecated; use an actual boolean (True/False) instead.\n",
      "  warnings.warn(message, mplDeprecation, stacklevel=1)\n"
     ]
    },
    {
     "data": {
      "text/plain": [
       "<matplotlib.legend.Legend at 0x25d7743b7f0>"
      ]
     },
     "execution_count": 24,
     "metadata": {},
     "output_type": "execute_result"
    },
    {
     "data": {
      "image/png": "[encoded data removed]",
      "text/plain": [
       "<Figure size 432x288 with 1 Axes>"
      ]
     },
     "metadata": {},
     "output_type": "display_data"
    }
   ],
   "source": [
    "# plot\n",
    "fig, ax = plt.subplots()\n",
    "# ax.semilogx()\n",
    "ax.set_xlim([0,500])\n",
    "ax.grid('on')\n",
    "ax.errorbar(time, p, yerr=sigmaP, fmt='r^',label='pressure')\n",
    "ax.errorbar(time, T, yerr=sigmaT, fmt='bs', label='temperature')\n",
    "plt.xlabel('time [s]')\n",
    "plt.ylabel('pressure [bar] / temperature [C]')\n",
    "plt.title('Dry Ice Sublimating in Glycerol')\n",
    "plt.legend(loc='best')"
   ]
  },
  {
   "cell_type": "markdown",
   "metadata": {},
   "source": [
    "Seems like the vessel is heating up about 5 C / 200 s"
   ]
  },
  {
   "cell_type": "markdown",
   "metadata": {},
   "source": [
    "## Analysis\n",
    "\n",
    "Having plotted the data, I want to extract important quantities like the solubility of CO2 in glycerol at room temperature and the diffusivity.\n",
    "\n",
    "I begin by calculating the amount of heat absorbed by the dry ice. I will assume that all heat that the dry ice absorbs is used to sublimate the dry ice rather than raise its temperature. We only consider until the data for temperature disappears (T < -1 C)."
   ]
  },
  {
   "cell_type": "code",
   "execution_count": 9,
   "metadata": {},
   "outputs": [],
   "source": [
    "# mass of glycerol [g]\n",
    "massGlyc = rhoGlyc*volGlyc\n",
    "# change in temperature [C]\n",
    "iNoT = np.where(np.isnan(T))[0][0]\n",
    "dT = T[0] - T[:iNoT]\n",
    "# heat absorbed by co2 over time [J]\n",
    "heatAbsorbed = cpGlyc*massGlyc*dT\n",
    "# mass of co2 sublimated [g]\n",
    "massCO2Sublimated = heatAbsorbed / dHSublimation\n",
    "# remaining mass of co2\n",
    "massDryIce = massDryIce0 - massCO2Sublimated\n",
    "\n",
    "# compute error in mass\n",
    "sigmaMGlyc = sigmaVolGlyc/volGlyc*massGlyc\n",
    "sigmaDT = np.sqrt(2)*sigmaT\n",
    "sigmaHeatAbsorbed = np.zeros(len(dT))\n",
    "sigmaHeatAbsorbed[dT!=0] = np.sqrt((sigmaMGlyc/massGlyc)**2 + (sigmaDT/dT[dT!=0])**2)*heatAbsorbed[dT!=0]\n",
    "sigmaHeatAbsorbed[dT==0] = sigmaMGlyc/massGlyc*heatAbsorbed[dT==0]\n",
    "sigmaDM = np.zeros(len(heatAbsorbed))\n",
    "sigmaDM[heatAbsorbed!=0] = sigmaHeatAbsorbed[heatAbsorbed!=0]/heatAbsorbed[heatAbsorbed!=0]* \\\n",
    "    massCO2Sublimated[heatAbsorbed!=0]\n",
    "sigmaM = np.sqrt(sigmaM0**2 + sigmaDM**2)"
   ]
  },
  {
   "cell_type": "markdown",
   "metadata": {},
   "source": [
    "Now I will plot the mass of the dry ice relative to the other data."
   ]
  },
  {
   "cell_type": "code",
   "execution_count": 10,
   "metadata": {},
   "outputs": [
    {
     "data": {
      "text/plain": [
       "<matplotlib.legend.Legend at 0x25d75e13e10>"
      ]
     },
     "execution_count": 10,
     "metadata": {},
     "output_type": "execute_result"
    },
    {
     "data": {
      "image/png": "[encoded data removed]",
      "text/plain": [
       "<Figure size 432x288 with 1 Axes>"
      ]
     },
     "metadata": {},
     "output_type": "display_data"
    }
   ],
   "source": [
    "sigmaPTrunc = sigmaP[:iNoT]\n",
    "timeTrunc = time[:iNoT]\n",
    "pTrunc = p[:iNoT]\n",
    "TTrunc = T[:iNoT]\n",
    "massDryIceTrunc = massDryIce[:iNoT]\n",
    "# plot\n",
    "fig, ax = plt.subplots()\n",
    "ax.semilogx()\n",
    "ax.errorbar(timeTrunc, pTrunc, yerr=sigmaPTrunc, fmt='r^',label='pressure')\n",
    "ax.errorbar(timeTrunc, TTrunc, yerr=sigmaT, fmt='bs', label='temperature')\n",
    "ax.errorbar(timeTrunc, massDryIceTrunc, yerr=sigmaM, fmt='go', label='mass of CO2')\n",
    "plt.xlabel('time [s]')\n",
    "plt.ylabel('pressure [bar] / temperature [C] / mass [g] ')\n",
    "plt.title('Dry Ice Sublimating in Glycerol')\n",
    "plt.legend(loc='best')"
   ]
  },
  {
   "cell_type": "markdown",
   "metadata": {},
   "source": [
    "Now I want to try to find the mass of CO2 in solution by determining how much CO2 is in the gas phase from the pressure."
   ]
  },
  {
   "cell_type": "code",
   "execution_count": 11,
   "metadata": {
    "scrolled": true
   },
   "outputs": [
    {
     "data": {
      "text/plain": [
       "<matplotlib.legend.Legend at 0x25d75dfcf98>"
      ]
     },
     "execution_count": 11,
     "metadata": {},
     "output_type": "execute_result"
    },
    {
     "data": {
      "image/png": "[encoded data removed]",
      "text/plain": [
       "<Figure size 432x288 with 1 Axes>"
      ]
     },
     "metadata": {},
     "output_type": "display_data"
    }
   ],
   "source": [
    "# volume of gas phase [mL]\n",
    "volGas = V - volGlyc\n",
    "\n",
    "# use ideal gas law to determine the number of moles of CO2 in the gas phase\n",
    "# first remove partial pressure of O2 and N2 (atmospheric pressure)\n",
    "pCO2 = pTrunc - pAtm\n",
    "# ideal gas law\n",
    "nCO2Gas = (pCO2*1E5)*(volGas/1E6)/(R*(TTrunc+273))\n",
    "\n",
    "# mass of CO2 gas\n",
    "massCO2Gas = mWCO2*nCO2Gas\n",
    "# mass of CO2 in solution\n",
    "massCO2Soln = massCO2Sublimated - massCO2Gas\n",
    "\n",
    "# quantify uncertainty\n",
    "sigmaN = np.zeros(len(nCO2Gas))\n",
    "sigmaN[pCO2!=0] = np.sqrt((sigmaPTrunc[pCO2!=0]/pCO2[pCO2!=0])**2 + (sigmaVolGlyc/volGas)**2 + \\\n",
    "                 (sigmaT/(TTrunc[pCO2!=0]+273))**2)*nCO2Gas[pCO2!=0]\n",
    "sigmaMGas = np.zeros(len(nCO2Gas))\n",
    "sigmaMGas[nCO2Gas!=0] = sigmaN[nCO2Gas!=0]/nCO2Gas[nCO2Gas!=0]*massCO2Gas[nCO2Gas!=0]\n",
    "sigmaMGas[nCO2Gas==0] = 0\n",
    "sigmaMSoln = np.sqrt(sigmaDM**2 + sigmaMGas**2)\n",
    "\n",
    "# plot\n",
    "fig, ax = plt.subplots()\n",
    "ax.semilogx()\n",
    "ax.errorbar(timeTrunc, pTrunc, yerr=sigmaPTrunc, fmt='r^',label='pressure')\n",
    "ax.errorbar(timeTrunc, TTrunc, yerr=sigmaT, fmt='bs', label='temperature')\n",
    "ax.errorbar(timeTrunc, massDryIceTrunc, yerr=sigmaM, fmt='go', label='mass of CO2')\n",
    "ax.errorbar(timeTrunc, massCO2Soln, yerr=sigmaMSoln, fmt='kd', label='mass dissolved CO2')\n",
    "plt.xlabel('time [s]')\n",
    "plt.ylabel('pressure [bar] / temperature [C] / mass [g]')\n",
    "plt.title('Dry Ice Sublimating in Glycerol')\n",
    "plt.legend(loc='best')"
   ]
  },
  {
   "cell_type": "markdown",
   "metadata": {},
   "source": [
    "I cannot tell how much CO2 is predicted to be in solution, so I will print out the array containing the data. Sometimes these values are negative, so I print the uncertainty as well."
   ]
  },
  {
   "cell_type": "code",
   "execution_count": 12,
   "metadata": {},
   "outputs": [
    {
     "name": "stdout",
     "output_type": "stream",
     "text": [
      "Mass of CO2 predicted to be dissolved in solution.\n",
      "[ 0.          0.15014081  0.45042242  0.28499143  0.21713835  0.37261405\n",
      "  0.37277923  0.23070255  0.08650065 -0.19557777 -0.20837221 -0.07390116]\n",
      "Uncertainty in the mass of CO2 predicted to be dissolved in solution.\n",
      "[0.         0.21234809 0.21248345 0.45328215 0.49384153 0.53996195\n",
      " 0.56557274 0.59088771 0.61758798 0.64314494 0.67447233 0.67697154]\n"
     ]
    }
   ],
   "source": [
    "print('Mass of CO2 predicted to be dissolved in solution.')\n",
    "print(massCO2Soln)\n",
    "print('Uncertainty in the mass of CO2 predicted to be dissolved in solution.')\n",
    "print(sigmaMSoln)"
   ]
  },
  {
   "cell_type": "markdown",
   "metadata": {},
   "source": [
    "### Solubility\n",
    "\n",
    "While my attempt to compute the diffusivity of CO2 in glycerol was not successful, I can still compute the solubility at room temperature."
   ]
  },
  {
   "cell_type": "code",
   "execution_count": 13,
   "metadata": {},
   "outputs": [
    {
     "name": "stdout",
     "output_type": "stream",
     "text": [
      "Solubility of CO2 in glycerol at room temperature and 27.5 bar of pressure is 4.0 +/- 3.4% w/w.\n"
     ]
    }
   ],
   "source": [
    "# compute solubility\n",
    "pCO2GasEquil = p[-1]\n",
    "TEquil = T[-1]\n",
    "nCO2GasEquil = (pCO2GasEquil*1E5)*(volGas/1E6)/(R*(TEquil+273))\n",
    "massCO2GasEquil = mWCO2*nCO2GasEquil\n",
    "massCO2SolnEquil = massDryIce0 - massCO2GasEquil\n",
    "solubility = massCO2SolnEquil / massGlyc\n",
    "\n",
    "# compute uncertainty\n",
    "sigmaNCO2GasEquil = np.sqrt((sigmaP[-1]/pCO2GasEquil)**2 + (sigmaVolGlyc/V)**2 + \\\n",
    "                            (sigmaT/(TEquil+273))**2)*nCO2GasEquil    \n",
    "sigmaMassCO2GasEquil = sigmaNCO2GasEquil/nCO2GasEquil*massCO2GasEquil\n",
    "sigmaMCO2SolnEquil = np.sqrt(sigmaM0**2 + sigmaMassCO2GasEquil**2)\n",
    "sigmaMassGlyc = sigmaVolGlyc/volGlyc*massGlyc\n",
    "sigmaSolubility = np.sqrt((sigmaMCO2SolnEquil/massCO2SolnEquil)**2 + (sigmaMassGlyc/massGlyc)**2)* \\\n",
    "    solubility\n",
    "\n",
    "print('Solubility of CO2 in glycerol at room temperature and ' + str(round(pCO2GasEquil,1)) + \\\n",
    "      ' bar of pressure is ' + str(round(100*solubility,1)) + ' +/- ' + \\\n",
    "      str(round(100*sigmaSolubility,1)) + '% w/w.')"
   ]
  },
  {
   "cell_type": "markdown",
   "metadata": {},
   "source": [
    "The solubility measurement is also very uncertain, though it is at least physically possible. The cause is the 10% error in the pressure, which propagates to a 10% error in the mass of the CO2 in the gas phase. Because there is about 10% as much CO2 in solution as in the gas phase, this error becomes almost 90% relative error in the mass of the CO2 in solution, resulting in a large final error in the solubility."
   ]
  },
  {
   "cell_type": "markdown",
   "metadata": {},
   "source": [
    "## Conclusion\n",
    "\n",
    "The uncertainty in this measurement is too high to measure the amount of CO2 that has dissolved in the glycerol over time, which makes the calculation of either the diffusivity or the solubility highly inaccurate. The uncertainty is mostly caused by the imprecision of the Parr reactor's pressure gauge (the Span pressure gauge), though we lose some valuable information when the temperature drops low enough that the Parr reactor's thermocouple cannot make a measurement. Replacing one or both of these measurement devices will be necessary to gain meaningful information out of this type of experiment."
   ]
  },
  {
   "cell_type": "code",
   "execution_count": null,
   "metadata": {},
   "outputs": [],
   "source": []
  }
 ],
 "metadata": {
  "kernelspec": {
   "display_name": "Python 3",
   "language": "python",
   "name": "python3"
  },
  "language_info": {
   "codemirror_mode": {
    "name": "ipython",
    "version": 3
   },
   "file_extension": ".py",
   "mimetype": "text/x-python",
   "name": "python",
   "nbconvert_exporter": "python",
   "pygments_lexer": "ipython3",
   "version": "3.6.5"
  }
 },
 "nbformat": 4,
 "nbformat_minor": 2
}
