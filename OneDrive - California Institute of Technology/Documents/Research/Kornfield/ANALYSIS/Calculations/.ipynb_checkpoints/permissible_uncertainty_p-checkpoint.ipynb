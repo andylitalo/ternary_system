{
 "cells": [
  {
   "cell_type": "markdown",
   "metadata": {},
   "source": [
    "# Permissible Uncertainty in Pressure\n",
    "\n",
    "This notebook uses data provided by Dow for the solubility of CO2 in polyol (VORANOL 360) and known uncertainties in the equipment used for Parr-reactor solubility measurements to estimate the permissible uncertainty in the pressure measurement. This estimate will allow us to select an appropriate pressure transducer."
   ]
  },
  {
   "cell_type": "code",
   "execution_count": 1,
   "metadata": {},
   "outputs": [],
   "source": [
    "import numpy as np\n",
    "import matplotlib.pyplot as plt\n",
    "\n",
    "# USER PARAMETERS\n",
    "\n",
    "# PERMISSIBLE UNCERTAINTIES\n",
    "# max permissible fractional uncertainty in solubility\n",
    "sigma_sol_frac_max = 0.1\n",
    "# uncertainty in volume of polyol [mL]\n",
    "sigma_V_poly = 3\n",
    "# uncertainty in initial mass of dry ice [g]\n",
    "sigma_m0 = 0.1\n",
    "\n",
    "# VARIABLES\n",
    "# volume of polyol [mL]\n",
    "V_poly = 150\n",
    "\n",
    "# FIXED UNCERTAINTY\n",
    "# uncertainty in temperature [C]\n",
    "sigma_T = 1\n",
    "\n",
    "# CONSTANTS\n",
    "# universal gas constant (J/mol.K)\n",
    "R = 8.314\n",
    "# pascals per psi\n",
    "psi2pa = 6894.75\n",
    "# m^3 per mL\n",
    "mL2m3 = 1E-6\n",
    "# molar mass of carbon dioxide [g/mol]\n",
    "mw_co2 = 44\n",
    "# density of glycerol [g/mL]\n",
    "rho_poly = 1.08\n",
    "# volume of Parr reactor [mL]\n",
    "V_tot = 233"
   ]
  },
  {
   "cell_type": "markdown",
   "metadata": {},
   "source": [
    "Load data for solubility of CO2 in polyol at 25 C (298 K)"
   ]
  },
  {
   "cell_type": "code",
   "execution_count": 2,
   "metadata": {},
   "outputs": [],
   "source": [
    "# copy-paste data from file \"co2_solubility_pressures.xlsx\"\n",
    "data = np.array([[198.1, 0.0372],\n",
    "        [405.6, 0.0821],\n",
    "        [606.1, 0.1351],\n",
    "        [806.8, 0.1993],\n",
    "        [893.9, 0.2336]])\n",
    "# temperature [K]\n",
    "T = 298\n",
    "\n",
    "# first column is pressure in psia\n",
    "p_psia = data[:,0]\n",
    "# second column is solubility in fraction w/w\n",
    "solubility = data[:,1]"
   ]
  },
  {
   "cell_type": "markdown",
   "metadata": {},
   "source": [
    "Convert data into the quantities needed to compute fractional uncertainty."
   ]
  },
  {
   "cell_type": "code",
   "execution_count": 3,
   "metadata": {},
   "outputs": [],
   "source": [
    "# convert pressure to Pa\n",
    "p_pa = psi2pa * p_psia\n",
    "\n",
    "# compute volume of gas phase in m^3\n",
    "V_gas = V_tot - V_poly\n",
    "V_gas_m3 = mL2m3 * V_gas\n",
    "\n",
    "# number of moles in gas phase\n",
    "n_co2_gas = p_pa*V_gas_m3/(R*T)\n",
    "# mass of co2 in the gas phase [g]\n",
    "m_co2_gas = mw_co2 * n_co2_gas\n",
    "\n",
    "# compute mass of co2 in solution [g]\n",
    "m_poly = rho_poly * V_poly\n",
    "m_co2_soln = solubility * m_poly"
   ]
  },
  {
   "cell_type": "markdown",
   "metadata": {},
   "source": [
    "Compute maximum permissible fractional uncertainty"
   ]
  },
  {
   "cell_type": "code",
   "execution_count": 4,
   "metadata": {},
   "outputs": [
    {
     "name": "stdout",
     "output_type": "stream",
     "text": [
      "[ 0.36317497  1.7689532   4.7900575  10.4242454  14.32107786]\n",
      "[0.014527   0.07075813 0.1916023  0.41696982 0.57284311]\n",
      "0.010000000000000002\n",
      "[0.08313625 0.09894168 0.12051814 0.14828631 0.16604765]\n"
     ]
    }
   ],
   "source": [
    "term1 = (m_co2_soln**2*(sigma_sol_frac_max**2 - (sigma_V_poly/V_poly)**2) - sigma_m0**2)/m_co2_gas**2\n",
    "\n",
    "sigma_P_frac2 = term1 - (sigma_V_poly/V_poly)**2 - (sigma_T/T)**2\n",
    "\n",
    "print(m_co2_soln**2*(sigma_sol_frac_max**2))\n",
    "print(m_co2_soln**2*(sigma_V_poly/V_poly)**2)\n",
    "print(sigma_m0**2)\n",
    "print(sigma_P_frac2)"
   ]
  },
  {
   "cell_type": "code",
   "execution_count": 5,
   "metadata": {},
   "outputs": [
    {
     "name": "stdout",
     "output_type": "stream",
     "text": [
      "[ 3.93820403  8.79642302 14.50738122 21.42076317 25.11445884]\n"
     ]
    }
   ],
   "source": [
    "print(np.sqrt(sigma_P_frac2)*p_pa/1E5)"
   ]
  },
  {
   "cell_type": "markdown",
   "metadata": {},
   "source": [
    "With 35 mL of polyol per batch, the uncertainty in the pressure transducer just needs to be 1% of the measured pressure. That might be too low since the most expensive pressure transducers offer 0.25% of the maximum (which will need to be at least 100 bar, maybe 200 bar to go up to 100 bar >= 0.25 bar, which is only 1% of 25 bar or greater).\n",
    "\n",
    "With 60 mL of polyol per batch, the uncertainty in the pressure transducer just needs to be 5% of the measured pressure. If we consider a minimum pressure of 10 bar, that's 0.5 bar, which may still be really expensive.\n",
    "\n",
    "Most surprisingly, I can get the same precision in measuring the solubility with **12%** error in the pressure using 100 mL of polyol and 2 mL uncertainty as with **2%** error in the pressure using 40 mL of polyol and 0.5 mL uncertainty. Clearly filling up the cup is the more effective method for improving precision.\n",
    "\n",
    "### Conclusion\n",
    "\n",
    "All of this is to say that the mass of CO2 dissolved in solution is the dominant term in determining the uncertainty. This term increases linearly with pressure and volume of polyol."
   ]
  },
  {
   "cell_type": "code",
   "execution_count": 73,
   "metadata": {},
   "outputs": [
    {
     "data": {
      "text/plain": [
       "0.1188811188811189"
      ]
     },
     "execution_count": 73,
     "metadata": {},
     "output_type": "execute_result"
    }
   ],
   "source": [
    ".17/1.43"
   ]
  },
  {
   "cell_type": "code",
   "execution_count": null,
   "metadata": {},
   "outputs": [],
   "source": []
  }
 ],
 "metadata": {
  "kernelspec": {
   "display_name": "Python 3",
   "language": "python",
   "name": "python3"
  },
  "language_info": {
   "codemirror_mode": {
    "name": "ipython",
    "version": 3
   },
   "file_extension": ".py",
   "mimetype": "text/x-python",
   "name": "python",
   "nbconvert_exporter": "python",
   "pygments_lexer": "ipython3",
   "version": "3.6.5"
  }
 },
 "nbformat": 4,
 "nbformat_minor": 2
}
