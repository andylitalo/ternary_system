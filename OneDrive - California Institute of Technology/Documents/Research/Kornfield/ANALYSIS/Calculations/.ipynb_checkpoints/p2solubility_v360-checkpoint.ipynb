{
 "cells": [
  {
   "cell_type": "markdown",
   "metadata": {},
   "source": [
    "### Estimating Solubility and Uncertainty\n",
    "\n",
    "This script uses measurements of pressure reached after adding a known amount of CO2 (as dry ice) into a known amount of VORANOL 360 to estimate the solubility at the resulting pressure. Assumes room temperature (298 K).\n",
    "\n",
    "The measurement is very far from but not inconsistent with Dow's data."
   ]
  },
  {
   "cell_type": "code",
   "execution_count": 6,
   "metadata": {},
   "outputs": [],
   "source": [
    "import numpy as np\n",
    "import matplotlib.pyplot as plt\n",
    "from scipy.interpolate import interp1d\n",
    "\n",
    "# USER PARAMETERS\n",
    "\n",
    "# PERMISSIBLE UNCERTAINTIES\n",
    "# uncertainty in volume of polyol [mL]\n",
    "sigma_V_poly = 2\n",
    "# uncertainty in initial mass of dry ice [g]\n",
    "sigma_m0 = 0.1\n",
    "\n",
    "# VARIABLES\n",
    "# volume of polyol [mL]\n",
    "V_poly = 150\n",
    "# initial mass of CO2 [g]\n",
    "m0 = 17.8\n",
    "# time to close Parr reactor [s]\n",
    "tClose = 20\n",
    "# final pressure [bar]\n",
    "p_span_gauge = 24\n",
    "\n",
    "#################################################################\n",
    "# FIXED UNCERTAINTY\n",
    "# uncertainty in temperature [C]\n",
    "sigma_T = 1\n",
    "# uncertainty in span pressure gauge [Pa]\n",
    "sigma_p_span_pa = 5E4\n",
    "# uncertainty in conversion of span gauge to actual pressure\n",
    "sigma_p_conv = 0.17\n",
    "# conversion from span gauge to actual pressure\n",
    "conv = 1.43\n",
    "\n",
    "# CONSTANTS\n",
    "# universal gas constant (J/mol.K)\n",
    "R = 8.314\n",
    "# pascals per psi\n",
    "psi2pa = 6894.75\n",
    "# pa per bar\n",
    "bar2Pa = 1E5\n",
    "# m^3 per mL\n",
    "mL2m3 = 1E-6\n",
    "# molar mass of carbon dioxide [g/mol]\n",
    "mw_co2 = 44\n",
    "# density of VORANOL 360 [g/mL]\n",
    "rho_poly = 1.084\n",
    "# volume of Parr reactor [mL]\n",
    "V_tot = 233\n",
    "# sublimation rate of dry ice [g/s]\n",
    "sublimRate = 0.004"
   ]
  },
  {
   "cell_type": "markdown",
   "metadata": {},
   "source": [
    "### Functions"
   ]
  },
  {
   "cell_type": "code",
   "execution_count": 7,
   "metadata": {},
   "outputs": [],
   "source": [
    "def convert_pressure(pGauge, sigma=None, pAtm=1.013):\n",
    "    \"\"\"\n",
    "    Converts pressure read by Span pressure gauge on Parr reactor to\n",
    "    absolute pressure. Calculates the uncertainty in the reading if \n",
    "    an uncertainty in the given pressure is provided (sigmaP).\n",
    "    \n",
    "    Arguments\n",
    "        -pGauge: pressure read off by gauge\n",
    "        -sigmaP: uncertainty in pressure read off by gauge (optional)\n",
    "        -pAtm: atmospheric pressure (1.013 bar by default). Change if using\n",
    "            different units than bar\n",
    "    \n",
    "    Returns:\n",
    "        1) Absolute pressure in the same units as pGauge\n",
    "        *2) Uncertainty in absolute pressure in the same units as sigmaP \n",
    "        *(if uncertainty in pressure sigmaP is given) \n",
    "    \"\"\"\n",
    "    # conversion from measured pressure to actual pressure\n",
    "#     conversion = 1.43\n",
    "#     conversion = 1.27\n",
    "    conversion = 1.30\n",
    "    # uncertainty in conversion\n",
    "    sigmaC = 0.11 #0.04 #0.17\n",
    "    # absolute pressure\n",
    "    p = conversion*pGauge #+ pAtm # maybe don't include atmospheric since doesn't contain CO2\n",
    "    # result\n",
    "    result = [p]\n",
    "    # calculate uncertainty\n",
    "    if sigma:\n",
    "        sigmaP = np.sqrt((pGauge*sigmaC)**2 + (conversion*sigma)**2)\n",
    "        result += [sigmaP]\n",
    "    \n",
    "    return result"
   ]
  },
  {
   "cell_type": "markdown",
   "metadata": {},
   "source": [
    "Load data from Dow for solubility of CO2 in VORANOL 360 polyol at 25 C"
   ]
  },
  {
   "cell_type": "code",
   "execution_count": 8,
   "metadata": {},
   "outputs": [],
   "source": [
    "# copy-paste data from file \"co2_solubility_pressures.xlsx\"\n",
    "data = np.array([[198.1, 0.0372],\n",
    "        [405.6, 0.0821],\n",
    "        [606.1, 0.1351],\n",
    "        [806.8, 0.1993],\n",
    "        [893.9, 0.2336]])\n",
    "# temperature [K]\n",
    "T = 298\n",
    "\n",
    "# first column is pressure in psia\n",
    "p_data_psia = data[:,0]\n",
    "# second column is solubility in fraction w/w\n",
    "solubility_data = data[:,1]\n",
    "\n",
    "# convert pressure to Pa\n",
    "p_data_pa = psi2pa * p_data_psia\n",
    "\n",
    "# define interpolation function\n",
    "f = interp1d(p_data_pa, solubility_data, kind=\"cubic\")\n",
    "p_interp = np.linspace(np.min(p_data_pa), np.max(p_data_pa), 100)\n",
    "solubility_interp = f(p_interp)"
   ]
  },
  {
   "cell_type": "markdown",
   "metadata": {},
   "source": [
    "Convert data into quantities required to calculate the uncertainty."
   ]
  },
  {
   "cell_type": "code",
   "execution_count": 9,
   "metadata": {},
   "outputs": [
    {
     "name": "stdout",
     "output_type": "stream",
     "text": [
      "Solubility at 31.2 +/- 2.7 bar of CO2 in VORANOL 360 is 8.1 +/- 0.3 %w/w.\n",
      "Predicted solubility based on Dow's data is 9.4 +/- 1.0 %w/w.\n"
     ]
    }
   ],
   "source": [
    "# convert measured pressure to Pa and compute uncertainty\n",
    "p_bar, sigma_p_bar = convert_pressure(p_span_gauge, sigma=0.5)\n",
    "p_pa = bar2pa*p_bar\n",
    "sigma_p_pa = bar2pa * sigma_p_bar\n",
    "\n",
    "# adjust initial mass based on sublimation\n",
    "m0_adj = m0 - sublimRate*tClose\n",
    "# compute volume of gas phase in m^3\n",
    "V_gas = V_tot - V_poly\n",
    "V_gas_m3 = mL2m3 * V_gas\n",
    "\n",
    "# number of moles in gas phase\n",
    "n_co2_gas = p_pa*V_gas_m3/(R*T)\n",
    "# mass of co2 in the gas phase [g]\n",
    "m_co2_gas = mw_co2 * n_co2_gas\n",
    "\n",
    "# compute mass of co2 in solution [g]\n",
    "m_poly = rho_poly * V_poly\n",
    "m_co2_soln = m0 - m_co2_gas\n",
    "\n",
    "# uncertainty of mass of co2 in solution\n",
    "sigma_n_co2_gas = np.sqrt((sigma_p_pa/p_pa)**2 + (sigma_V_poly/V_poly)**2 + (sigma_T/T)**2)*n_co2_gas   \n",
    "sigma_m_co2_gas = sigma_n_co2_gas/n_co2_gas*m_co2_gas\n",
    "sigma_m_co2_soln = np.sqrt(sigma_m0**2 + sigma_m_co2_gas**2)\n",
    "\n",
    "# uncertainty in mass of polyol\n",
    "sigma_m_poly = (sigma_V_poly/V_poly)*m_poly\n",
    "\n",
    "# compute solubility\n",
    "solubility = m_co2_soln / m_poly\n",
    "# compute uncertainty in solubility\n",
    "sigma_solubility = np.sqrt((sigma_m_co2_soln / m_co2_soln)**2 + (sigma_m_poly / m_poly)**2)*solubility\n",
    "\n",
    "# print result\n",
    "print('Solubility at ' + str(round(p_pa/bar2pa,1)) + ' +/- ' + str(round(sigma_p_pa/bar2pa,1)) + \\\n",
    "      ' bar of CO2 in VORANOL 360 is ' + \\\n",
    "      str(round(100*solubility,1)) + ' +/- ' + str(round(100*sigma_solubility,1)) + ' %w/w.')\n",
    "\n",
    "# estimate solubility from Dow's data\n",
    "solubility_pred = f(p_pa)\n",
    "sigma_solubility_pred = (f(p_pa + sigma_p_pa) - f(p_pa - sigma_p_pa))/2\n",
    "print('Predicted solubility based on Dow\\'s data is ' +  str(round(100*solubility_pred,1)) + \\\n",
    "      ' +/- ' + str(round(100*sigma_solubility_pred,1)) + ' %w/w.')"
   ]
  },
  {
   "cell_type": "markdown",
   "metadata": {},
   "source": [
    "### Plot\n",
    "\n",
    "Plot solubility data from Dow and measured data points."
   ]
  },
  {
   "cell_type": "code",
   "execution_count": 13,
   "metadata": {},
   "outputs": [
    {
     "data": {
      "text/plain": [
       "<matplotlib.legend.Legend at 0x1d6d39a97f0>"
      ]
     },
     "execution_count": 13,
     "metadata": {},
     "output_type": "execute_result"
    },
    {
     "data": {
      "image/png": "[encoded data removed]",
      "text/plain": [
       "<Figure size 432x288 with 1 Axes>"
      ]
     },
     "metadata": {},
     "output_type": "display_data"
    }
   ],
   "source": [
    "fig = plt.figure()\n",
    "ax = fig.add_subplot(1,1,1)\n",
    "ax.plot(p_interp/bar2Pa, solubility_interp, label='Dow data')\n",
    "ax.errorbar(p_pa/bar2Pa, solubility, yerr=sigma_solubility, fmt='g^', label='measurement')\n",
    "ax.set_xlabel('Pressure [bar]')\n",
    "ax.set_ylabel('Solubility')\n",
    "ax.legend(loc='best')"
   ]
  },
  {
   "cell_type": "code",
   "execution_count": null,
   "metadata": {},
   "outputs": [],
   "source": [
    "sigma_p_pa"
   ]
  },
  {
   "cell_type": "code",
   "execution_count": null,
   "metadata": {},
   "outputs": [],
   "source": [
    "f(24.5E5)"
   ]
  },
  {
   "cell_type": "code",
   "execution_count": null,
   "metadata": {},
   "outputs": [],
   "source": [
    "p_pa"
   ]
  },
  {
   "cell_type": "code",
   "execution_count": null,
   "metadata": {},
   "outputs": [],
   "source": []
  }
 ],
 "metadata": {
  "kernelspec": {
   "display_name": "Python 3",
   "language": "python",
   "name": "python3"
  },
  "language_info": {
   "codemirror_mode": {
    "name": "ipython",
    "version": 3
   },
   "file_extension": ".py",
   "mimetype": "text/x-python",
   "name": "python",
   "nbconvert_exporter": "python",
   "pygments_lexer": "ipython3",
   "version": "3.6.5"
  }
 },
 "nbformat": 4,
 "nbformat_minor": 2
}
