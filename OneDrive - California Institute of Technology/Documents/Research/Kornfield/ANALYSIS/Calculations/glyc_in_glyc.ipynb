{
 "cells": [
  {
   "cell_type": "markdown",
   "metadata": {},
   "source": [
    "# Inner Stream Glycerol, Outer Stream Glycerol\n",
    "\n",
    "This document contains calculations used to analyze systems in which glycerol is flowed through both inner and outer streams of the acrylic-block capillary device. The relevant functions can be found in the function library \"FlowMethods.py.\""
   ]
  },
  {
   "cell_type": "code",
   "execution_count": 28,
   "metadata": {},
   "outputs": [
    {
     "data": {
      "text/plain": [
       "<module 'FlowMethods' from 'C:\\\\Users\\\\Andy.DESKTOP-CFRG05F\\\\OneDrive - California Institute of Technology\\\\Documents\\\\Research\\\\Kornfield\\\\Calculations\\\\FlowMethods.py'>"
      ]
     },
     "execution_count": 28,
     "metadata": {},
     "output_type": "execute_result"
    }
   ],
   "source": [
    "import FlowMethods as FM\n",
    "from importlib import reload\n",
    "reload(FM)"
   ]
  },
  {
   "cell_type": "markdown",
   "metadata": {},
   "source": [
    "## April 3rd, 2019\n",
    "\n",
    "Inner stream: flowed blue glycerol with ISCO 100 DM pump using PTFE tubing connected by Swagelok 3-way valve\n",
    "Outer stream: flowed glycerol with Parr reactor pressurized using dry ice"
   ]
  },
  {
   "cell_type": "code",
   "execution_count": 36,
   "metadata": {},
   "outputs": [
    {
     "name": "stdout",
     "output_type": "stream",
     "text": [
      "Flow rate through outer stream is 226 uL/min.\n",
      "p_isco = 69.6 bar, p_inner_cap = 56.2 bar, and p_obs_cap = 49.5 bar.\n",
      "Velocity at center of stream is about 54.8 cm/s.\n",
      "The radius of the inner stream is about 214.4 um.\n"
     ]
    }
   ],
   "source": [
    "# define system parameters\n",
    "# viscosity [Pa.s]\n",
    "eta = 1.412 \n",
    "# flow rate of ISCO pump [uL/min]\n",
    "Q_isco = 3000\n",
    "# pressure of Parr reactor [bar]\n",
    "p_parr = 50\n",
    "# length of PTFE tubing for inner and outer streams [cm]\n",
    "l_tube_i = 40\n",
    "l_tube_o = 20\n",
    "\n",
    "# calculations\n",
    "Q_i, Q_o = FM.get_flow_rates(eta, Q_i=Q_isco, p_o=p_parr, l_tube_i=l_tube_i, l_tube_o=l_tube_o)\n",
    "p_i, p_o, p_inner_cap, p_obs_cap = FM.get_pressures(eta, Q_i, Q_o, l_tube_i=l_tube_i, l_tube_o=l_tube_o)\n",
    "v_center = FM.get_velocity(Q_i, Q_o)\n",
    "r_inner_stream = FM.get_inner_stream_radius(Q_i, Q_o)\n",
    "\n",
    "# print results\n",
    "print(\"Flow rate through outer stream is %d uL/min.\" % Q_o)\n",
    "print(\"p_isco = %.1f bar, p_inner_cap = %.1f bar, and p_obs_cap = %.1f bar.\" % (p_i, p_inner_cap, p_obs_cap))\n",
    "print(\"Velocity at center of stream is about %.1f cm/s.\" % v_center)\n",
    "print(\"The radius of the inner stream is about %.1f um.\" % r_inner_stream)"
   ]
  },
  {
   "cell_type": "code",
   "execution_count": null,
   "metadata": {},
   "outputs": [],
   "source": []
  }
 ],
 "metadata": {
  "kernelspec": {
   "display_name": "Python 3",
   "language": "python",
   "name": "python3"
  },
  "language_info": {
   "codemirror_mode": {
    "name": "ipython",
    "version": 3
   },
   "file_extension": ".py",
   "mimetype": "text/x-python",
   "name": "python",
   "nbconvert_exporter": "python",
   "pygments_lexer": "ipython3",
   "version": "3.6.5"
  }
 },
 "nbformat": 4,
 "nbformat_minor": 2
}
