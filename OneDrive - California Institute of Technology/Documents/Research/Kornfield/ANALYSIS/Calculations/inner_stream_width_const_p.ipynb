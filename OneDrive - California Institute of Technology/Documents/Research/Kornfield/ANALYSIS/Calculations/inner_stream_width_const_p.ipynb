{
 "cells": [
  {
   "cell_type": "markdown",
   "metadata": {},
   "source": [
    "### Calculating Width of Inner Stream Supplied by Constant Pressure Source\n",
    "\n",
    "This analysis assumes a Hagen-Poiseuille flow inside the tubing of the device to calculate the width of the inner stream expected given its inlet and outlet pressure, as well as the flow rate of the outer stream. This document was originally created to analyze the stream width in experiments performed on November 19, 2018 to view bubbles in a stream of N2 + glycerol dyed blue (although the code is applicable to other similar experiments)."
   ]
  },
  {
   "cell_type": "code",
   "execution_count": 9,
   "metadata": {},
   "outputs": [],
   "source": [
    "# import relevant libraries\n",
    "import numpy as np\n",
    "\n",
    "# user parameters\n",
    "# measured upstream pressure of inner stream (gauge) [bar]\n",
    "p = 27 # 16\n",
    "# outer stream flow rate [uL/min]\n",
    "Qo = 0 #250\n",
    "# viscosity of glycerol [Pa.s]\n",
    "eta = 1 #1.412\n",
    "# length of capillary tube [cm]\n",
    "lCap = 10\n",
    "# radius of capillary tube [um]\n",
    "rCap = 250\n",
    "# length of PTFE tubing (approximately) [cm]\n",
    "lPTFE = 20\n",
    "# radius of PTFE tubing [um]\n",
    "rPTFE = 481.25\n",
    "# length of inner capillary [cm]\n",
    "lInnerCap = 2.3 # measured 12/17/18\n",
    "# radius of inner capillary [um]\n",
    "rInnerCap = 280"
   ]
  },
  {
   "cell_type": "markdown",
   "metadata": {},
   "source": [
    "### Conversions\n",
    "We now convert all the parameters to SI units or adjust based on calibration"
   ]
  },
  {
   "cell_type": "code",
   "execution_count": 10,
   "metadata": {},
   "outputs": [],
   "source": [
    "# pressure: bar -> Pa\n",
    "p *= 1E5\n",
    "# pressure: convert from measurement given by Span gauge to actual pressure\n",
    "# p *= 1.30\n",
    "# outer stream flow rate: uL/min -> m^3/s\n",
    "Qo /= 60E9\n",
    "# length of capillary tube: cm -> m\n",
    "lCap /= 100\n",
    "# radius of capillary tube [um]\n",
    "rCap /= 1E6\n",
    "# length of PTFE tubing (approximately) [cm]\n",
    "lPTFE /= 100\n",
    "# radius of PTFE tubing [um]\n",
    "rPTFE /= 1E6\n",
    "# length of inner capillary [cm]\n",
    "lInnerCap /= 100\n",
    "# radius of inner capillary [um]\n",
    "rInnerCap /= 1E6"
   ]
  },
  {
   "cell_type": "markdown",
   "metadata": {},
   "source": [
    "We use the Hagen-Poiseuille for predicting the inner stream width."
   ]
  },
  {
   "cell_type": "code",
   "execution_count": 11,
   "metadata": {},
   "outputs": [
    {
     "name": "stdout",
     "output_type": "stream",
     "text": [
      "Width of inner stream is 500.0 um.\n"
     ]
    }
   ],
   "source": [
    "# calculate the flow rate of the inner stream (accounting for pressure drop across PTFE tubing)\n",
    "Qi = (np.pi*p/(8*eta) - (lCap/rCap**4)*Qo)/(lPTFE/rPTFE**4 + lInnerCap/rInnerCap**4 + lCap/rCap**4)\n",
    "# calculate the radius of the inner stream (Hagen-Poiseuille flow, derived in candidacy report)\n",
    "rIn = rCap*np.sqrt(1-np.sqrt(Qo/(Qi+Qo)))\n",
    "# radius to diameter (*2) and convert m -> um (*1E6)\n",
    "innerStreamWidth = 2*rIn*1E6\n",
    "print('Width of inner stream is ' + str(innerStreamWidth) + ' um.')"
   ]
  },
  {
   "cell_type": "code",
   "execution_count": 12,
   "metadata": {},
   "outputs": [
    {
     "name": "stdout",
     "output_type": "stream",
     "text": [
      "Pressure drop down PTFE is 3.0441741239929105 bar.\n"
     ]
    }
   ],
   "source": [
    "dP_PTFE = 8*eta*lPTFE/(np.pi*rPTFE**4)*Qi\n",
    "print('Pressure drop down PTFE is ' + str(dP_PTFE/1E5) + ' bar.')"
   ]
  },
  {
   "cell_type": "code",
   "execution_count": 13,
   "metadata": {},
   "outputs": [
    {
     "name": "stdout",
     "output_type": "stream",
     "text": [
      "Pressure drop down inner capillary is 3.055048963534072 bar.\n"
     ]
    }
   ],
   "source": [
    "dP_InnerCap = 8*eta*lInnerCap/(np.pi*rInnerCap**4)*Qi\n",
    "print('Pressure drop down inner capillary is ' + str(dP_InnerCap/1E5) + ' bar.')"
   ]
  },
  {
   "cell_type": "code",
   "execution_count": 14,
   "metadata": {},
   "outputs": [
    {
     "name": "stdout",
     "output_type": "stream",
     "text": [
      "Pressure drop down observation capillary is 20.900776912473017 bar.\n"
     ]
    }
   ],
   "source": [
    "dP_ObservationCap = p - dP_PTFE - dP_InnerCap\n",
    "print('Pressure drop down observation capillary is ' + str(dP_ObservationCap/1E5) + ' bar.')"
   ]
  },
  {
   "cell_type": "code",
   "execution_count": 15,
   "metadata": {},
   "outputs": [
    {
     "name": "stdout",
     "output_type": "stream",
     "text": [
      "Maximum velocity in exit capillary is 0.326574639257391 m/s.\n"
     ]
    }
   ],
   "source": [
    "# maximum velocity in exit capillary [m/s]\n",
    "vMax = 2*(Qo+Qi)/(np.pi*rCap**2)\n",
    "print('Maximum velocity in exit capillary is ' + str(vMax) + ' m/s.')"
   ]
  },
  {
   "cell_type": "code",
   "execution_count": 16,
   "metadata": {},
   "outputs": [
    {
     "name": "stdout",
     "output_type": "stream",
     "text": [
      "Inner flow rate = 1.9236834141370431 mL/min.\n"
     ]
    }
   ],
   "source": [
    "# inner flow rate\n",
    "print('Inner flow rate = ' + str(6E7*Qi) + ' mL/min.')"
   ]
  },
  {
   "cell_type": "code",
   "execution_count": null,
   "metadata": {},
   "outputs": [],
   "source": []
  }
 ],
 "metadata": {
  "kernelspec": {
   "display_name": "Python 3",
   "language": "python",
   "name": "python3"
  },
  "language_info": {
   "codemirror_mode": {
    "name": "ipython",
    "version": 3
   },
   "file_extension": ".py",
   "mimetype": "text/x-python",
   "name": "python",
   "nbconvert_exporter": "python",
   "pygments_lexer": "ipython3",
   "version": "3.6.5"
  }
 },
 "nbformat": 4,
 "nbformat_minor": 2
}
