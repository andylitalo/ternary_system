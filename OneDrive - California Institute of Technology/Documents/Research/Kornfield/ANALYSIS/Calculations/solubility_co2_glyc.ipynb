{
 "cells": [
  {
   "cell_type": "markdown",
   "metadata": {},
   "source": [
    "## Solubility of CO2 in Glycerol\n",
    "\n",
    "Recorded CO2 solubility in glycerol at various pressures at room temperature. While we cannot assume that the relationship is linear at the pressures considered (Henry's Law will begin to fail), we can use these data to interpolate reasonable estimates for the solubility at pressures within the range that the data cover."
   ]
  },
  {
   "cell_type": "code",
   "execution_count": 45,
   "metadata": {},
   "outputs": [],
   "source": [
    "import numpy as np\n",
    "import matplotlib.pyplot as plt\n",
    "from scipy.interpolate import interp1d\n",
    "\n",
    "# User parameters\n",
    "# molecular weight of CO2 [g/mol]\n",
    "mWCO2 = 44\n",
    "# density of glycerol [g/mL]\n",
    "rhoGlyc = 1.26\n",
    "# universal gas constant [J/mol.K]\n",
    "R = 8.314\n",
    "# (room) temperature [K]\n",
    "T = 300\n",
    "# volume of Parr reactor [mL]\n",
    "vReactor = 233\n",
    "# rate of sublimation of dry ice in room temperature air [g/s]\n",
    "sublimationRate = 0.004\n",
    "# conversions\n",
    "bar2Pa = 1E5\n",
    "mL2M3 = 1E-6"
   ]
  },
  {
   "cell_type": "markdown",
   "metadata": {},
   "source": [
    "### Data"
   ]
  },
  {
   "cell_type": "code",
   "execution_count": 46,
   "metadata": {},
   "outputs": [],
   "source": [
    "# Data (from pp. 11, 14, 18&19, and 20)\n",
    "# mass of dry ice [grams]\n",
    "mDryIce = np.array([5.28, 11.1, 11.55, 14.4])\n",
    "# uncertainty\n",
    "sigmaM = np.array([0.1, 0.1, 0.1, 0.1])\n",
    "# time of sublimation [s]\n",
    "tSublimation = np.array([40, 45, 50, 83])\n",
    "# uncertainty [s]\n",
    "sigmaT = np.array([5, 5, 5, 5])\n",
    "# volume of glycerol [mL]\n",
    "vGlyc = np.array([30, 29.6, 28, 29.5])\n",
    "# uncertainty\n",
    "sigmaV = np.array([0.5, 0.5, 0.5, 0.14])\n",
    "# final Span gauge pressure\n",
    "pGauge = np.array([7.5, 16.5, 18.5, 20.5])\n",
    "# uncertainty\n",
    "sigmaP = np.array([0.5, 0.5, 0.5, 0.5])"
   ]
  },
  {
   "cell_type": "markdown",
   "metadata": {},
   "source": [
    "### Functions"
   ]
  },
  {
   "cell_type": "code",
   "execution_count": 47,
   "metadata": {},
   "outputs": [],
   "source": [
    "def convert_pressure(pGauge, sigma=None, pAtm=1.013):\n",
    "    \"\"\"\n",
    "    Converts pressure read by Span pressure gauge on Parr reactor to\n",
    "    absolute pressure. Calculates the uncertainty in the reading if \n",
    "    an uncertainty in the given pressure is provided (sigmaP).\n",
    "    \n",
    "    Arguments\n",
    "        -pGauge: pressure read off by gauge\n",
    "        -sigmaP: uncertainty in pressure read off by gauge (optional)\n",
    "        -pAtm: atmospheric pressure (1.013 bar by default). Change if using\n",
    "            different units than bar\n",
    "    \n",
    "    Returns:\n",
    "        1) Absolute pressure in the same units as pGauge\n",
    "        *2) Uncertainty in absolute pressure in the same units as sigmaP \n",
    "        *(if uncertainty in pressure sigmaP is given) \n",
    "    \"\"\"\n",
    "    # conversion from measured pressure to actual pressure\n",
    "    conversion = 1.43\n",
    "    # uncertainty in conversion\n",
    "    sigmaC = 0.17\n",
    "    # absolute pressure\n",
    "    p = conversion*pGauge + pAtm\n",
    "    # result\n",
    "    result = [p]\n",
    "    # calculate uncertainty\n",
    "    if sigma:\n",
    "        sigmaP = np.sqrt((pGauge*sigmaC)**2 + (conversion*sigma)**2)\n",
    "        result += [sigmaP]\n",
    "    \n",
    "    return result"
   ]
  },
  {
   "cell_type": "markdown",
   "metadata": {},
   "source": [
    "We process the data below."
   ]
  },
  {
   "cell_type": "code",
   "execution_count": 48,
   "metadata": {},
   "outputs": [
    {
     "name": "stdout",
     "output_type": "stream",
     "text": [
      "[11.738 24.608 27.468 30.328]\n",
      "[0.02424591 0.05604474 0.04015022 0.08556536]\n"
     ]
    }
   ],
   "source": [
    "# adjust mass of dry ice to account for sublimation [g]\n",
    "mLost = sublimationRate * tSublimation\n",
    "mDryIce -= mLost\n",
    "# moles of CO2 in reactor [mol]\n",
    "nCO2 = mDryIce / mWCO2\n",
    "# pressure [bar]\n",
    "p, sigmaP = convert_pressure(pGauge, sigma=0.5)\n",
    "# convert pressure\n",
    "p *= bar2Pa\n",
    "sigmaP *= bar2Pa\n",
    "# volume of head space occupied by gas [mL]\n",
    "vGas = vReactor - vGlyc\n",
    "# convert mL -> m^3\n",
    "vGasM3 = mL2M3 * vGas\n",
    "# moles of CO2 in gas phase (assumes ideal gas) [mol]\n",
    "nCO2Gas = (p*vGasM3) / (R*T)\n",
    "# moles of CO2 in solution [mol]\n",
    "nCO2Soln = nCO2 - nCO2Gas\n",
    "# mass of CO2 in solution [g]\n",
    "mCO2Soln = mWCO2 * nCO2Soln\n",
    "# mass of glycerol [g]\n",
    "mGlyc = rhoGlyc * vGlyc\n",
    "# solubility [w/w]\n",
    "solubility = mCO2Soln / mGlyc\n",
    "\n",
    "print(p/bar2Pa)\n",
    "print(solubility)"
   ]
  },
  {
   "cell_type": "markdown",
   "metadata": {},
   "source": [
    "### Interpolation and Plotting"
   ]
  },
  {
   "cell_type": "code",
   "execution_count": 49,
   "metadata": {},
   "outputs": [
    {
     "data": {
      "text/plain": [
       "[<matplotlib.lines.Line2D at 0x2258e98d630>]"
      ]
     },
     "execution_count": 49,
     "metadata": {},
     "output_type": "execute_result"
    },
    {
     "data": {
      "image/png": "[encoded data removed]",
      "text/plain": [
       "<Figure size 432x288 with 1 Axes>"
      ]
     },
     "metadata": {},
     "output_type": "display_data"
    }
   ],
   "source": [
    "# interpolation function\n",
    "f = interp1d(p, solubility, kind='cubic')\n",
    "plt.plot(p, solubility, 'g^', label='data')\n",
    "pLin = np.linspace(np.min(p), np.max(p), 100)\n",
    "plt.plot(pLin, f(pLin), 'b--', label='interpolation')"
   ]
  },
  {
   "cell_type": "markdown",
   "metadata": {},
   "source": [
    "### Conclusion\n",
    "\n",
    "Because we cannot assume that solubility is linear, we cannot meaningfully estimate the solubility without highly accurate data. As seen by the non-monotonicity of the calculated solubility with respect to pressure, these data are not accurate. **Therefore, the results are not sufficient to estimate the solubility of CO2 in glycerol.**"
   ]
  }
 ],
 "metadata": {
  "kernelspec": {
   "display_name": "Python 3",
   "language": "python",
   "name": "python3"
  },
  "language_info": {
   "codemirror_mode": {
    "name": "ipython",
    "version": 3
   },
   "file_extension": ".py",
   "mimetype": "text/x-python",
   "name": "python",
   "nbconvert_exporter": "python",
   "pygments_lexer": "ipython3",
   "version": "3.6.5"
  }
 },
 "nbformat": 4,
 "nbformat_minor": 2
}
