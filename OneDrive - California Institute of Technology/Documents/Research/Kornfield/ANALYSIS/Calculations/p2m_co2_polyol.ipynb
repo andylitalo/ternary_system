{
 "cells": [
  {
   "cell_type": "markdown",
   "metadata": {},
   "source": [
    "This script computes the mass of CO2 required to reach a certain pressure in the Parr reactor when containing a certain volume of polyol (VORANOL 360). It uses data from Dow."
   ]
  },
  {
   "cell_type": "code",
   "execution_count": 25,
   "metadata": {},
   "outputs": [],
   "source": [
    "import numpy as np\n",
    "import matplotlib.pyplot as plt\n",
    "from scipy.interpolate import interp1d\n",
    "\n",
    "# USER PARAMETERS\n",
    "# pressure [bar]\n",
    "p = 405.6 / 14.5038\n",
    "\n",
    "\n",
    "# PERMISSIBLE UNCERTAINTIES\n",
    "# max permissible fractional uncertainty in solubility\n",
    "sigma_sol_frac_max = 0.1\n",
    "# uncertainty in volume of polyol [mL]\n",
    "sigma_V_poly = np.sqrt(10)\n",
    "# uncertainty in initial mass of dry ice [g]\n",
    "sigma_m0 = 0.1\n",
    "\n",
    "# VARIABLES\n",
    "# volume of polyol [mL]\n",
    "V_poly = 150\n",
    "\n",
    "# FIXED UNCERTAINTY\n",
    "# uncertainty in temperature [C]\n",
    "sigma_T = 1\n",
    "# uncertainty in span pressure gauge [Pa]\n",
    "sigma_p_span_pa = 5E4\n",
    "# uncertainty in conversion of span gauge to actual pressure\n",
    "sigma_p_conv = 0.17\n",
    "# conversion from span gauge to actual pressure\n",
    "conv = 1.43\n",
    "\n",
    "# CONSTANTS\n",
    "# universal gas constant (J/mol.K)\n",
    "R = 8.314\n",
    "# pascals per psi\n",
    "psi2pa = 6894.75\n",
    "# pa per bar\n",
    "bar2pa = 1E5\n",
    "# m^3 per mL\n",
    "mL2m3 = 1E-6\n",
    "# molar mass of carbon dioxide [g/mol]\n",
    "mw_co2 = 44\n",
    "# density of glycerol [g/mL]\n",
    "rho_poly = 1.08\n",
    "# volume of Parr reactor [mL]\n",
    "V_tot = 233"
   ]
  },
  {
   "cell_type": "markdown",
   "metadata": {},
   "source": [
    "Load data from Dow for solubility of CO2 in VORANOL 360 polyol at 25 C"
   ]
  },
  {
   "cell_type": "code",
   "execution_count": 26,
   "metadata": {},
   "outputs": [
    {
     "data": {
      "text/plain": [
       "Text(0.5,1,'Interpolated and Measured Solubility vs. Presure')"
      ]
     },
     "execution_count": 26,
     "metadata": {},
     "output_type": "execute_result"
    },
    {
     "data": {
      "image/png": "[encoded data removed]",
      "text/plain": [
       "<Figure size 432x288 with 1 Axes>"
      ]
     },
     "metadata": {},
     "output_type": "display_data"
    }
   ],
   "source": [
    "# copy-paste data from file \"co2_solubility_pressures.xlsx\"\n",
    "data = np.array([[198.1, 0.0372],\n",
    "        [405.6, 0.0821],\n",
    "        [606.1, 0.1351],\n",
    "        [806.8, 0.1993],\n",
    "        [893.9, 0.2336]])\n",
    "# temperature [K]\n",
    "T = 298\n",
    "\n",
    "# first column is pressure in psia\n",
    "p_data_psia = data[:,0]\n",
    "# second column is solubility in fraction w/w\n",
    "solubility_data = data[:,1]\n",
    "\n",
    "# convert pressure to bar\n",
    "p_data_bar = psi2pa/bar2pa * p_data_psia\n",
    "# create interpolation function using a cubic spline and plot\n",
    "f = interp1d(p_data_bar, solubility_data, kind=\"cubic\")\n",
    "\n",
    "# PLOT INTERPOLATION\n",
    "p_interp = np.linspace(np.min(p_data_bar), np.max(p_data_bar), 20)\n",
    "solubility_interp = f(p_interp)\n",
    "\n",
    "# plot\n",
    "fig = plt.figure()\n",
    "ax = fig.add_subplot(1,1,1)\n",
    "ax.plot(p_interp, 100*solubility_interp, 'b-')\n",
    "ax.plot(p_data_bar, 100*solubility_data, 'r^')\n",
    "ax.set_xlabel('Pressure [bar]')\n",
    "ax.set_ylabel('Solubility (% w/w)')\n",
    "ax.set_title('Interpolated and Measured Solubility vs. Presure')"
   ]
  },
  {
   "cell_type": "markdown",
   "metadata": {},
   "source": [
    "Convert data into quantities required to calculate the uncertainty."
   ]
  },
  {
   "cell_type": "code",
   "execution_count": 27,
   "metadata": {},
   "outputs": [],
   "source": [
    "# interpolate solubility\n",
    "solubility = f(p)\n",
    "\n",
    "# pressure in pascals\n",
    "p_pa = bar2pa*p\n",
    "\n",
    "# compute volume of gas phase in m^3\n",
    "V_gas = V_tot - V_poly\n",
    "V_gas_m3 = mL2m3 * V_gas\n",
    "\n",
    "# number of moles in gas phase\n",
    "n_co2_gas = p_pa*V_gas_m3/(R*T)\n",
    "# mass of co2 in the gas phase [g]\n",
    "m_co2_gas = mw_co2 * n_co2_gas\n",
    "\n",
    "# compute mass of co2 in solution [g]\n",
    "m_poly = rho_poly * V_poly\n",
    "m_co2_soln = solubility * m_poly"
   ]
  },
  {
   "cell_type": "markdown",
   "metadata": {},
   "source": [
    "Compute required mass."
   ]
  },
  {
   "cell_type": "code",
   "execution_count": 28,
   "metadata": {},
   "outputs": [
    {
     "name": "stdout",
     "output_type": "stream",
     "text": [
      "17.422308066665543 g of dry ice required for a pressure of 27.9650850122037 bar and solubility of 0.08209992645250652.\n"
     ]
    }
   ],
   "source": [
    "m_co2 = m_co2_soln + m_co2_gas\n",
    "print(str(m_co2) + ' g of dry ice required for a pressure of ' + str(p) + ' bar and solubility of ' + str(solubility) + '.')"
   ]
  },
  {
   "cell_type": "code",
   "execution_count": null,
   "metadata": {},
   "outputs": [],
   "source": []
  },
  {
   "cell_type": "code",
   "execution_count": null,
   "metadata": {},
   "outputs": [],
   "source": []
  }
 ],
 "metadata": {
  "kernelspec": {
   "display_name": "Python 3",
   "language": "python",
   "name": "python3"
  },
  "language_info": {
   "codemirror_mode": {
    "name": "ipython",
    "version": 3
   },
   "file_extension": ".py",
   "mimetype": "text/x-python",
   "name": "python",
   "nbconvert_exporter": "python",
   "pygments_lexer": "ipython3",
   "version": "3.6.5"
  }
 },
 "nbformat": 4,
 "nbformat_minor": 2
}
